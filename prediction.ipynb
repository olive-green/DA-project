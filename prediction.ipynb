{
 "cells": [
  {
   "cell_type": "markdown",
   "metadata": {},
   "source": [
    "# Instructions to download the dataset\n",
    "For the analysis, we got the data from the \"Walmart Recruiting- Store Sales Competition\" on Kaggle. \n",
    "\n",
    "In order to download the data from source:- \n",
    "1. You will need to enter the competition at Kaggle and download the data from https://www.kaggle.com/c/walmart-recruiting-store-sales-forecasting/data. \n",
    "2. The source has four \".csv\" files, \"stores.csv\",\"train.csv\",\"test.csv\",\"features.csv\".\n",
    "3. Kindly add the data files in the same folder as \".ipynb\" file for running the code.\n",
    "\n",
    "We are also attaching the Github link of source data file along with our code in case the above method fails. "
   ]
  },
  {
   "cell_type": "markdown",
   "metadata": {},
   "source": [
    "## Import all the required libraries"
   ]
  },
  {
   "cell_type": "code",
   "execution_count": 2,
   "metadata": {},
   "outputs": [
    {
     "name": "stdout",
     "output_type": "stream",
     "text": [
      "Collecting seabornNote: you may need to restart the kernel to use updated packages.\n",
      "  Downloading seaborn-0.11.2-py3-none-any.whl (292 kB)\n",
      "Requirement already satisfied: matplotlib>=2.2 in c:\\users\\panka\\appdata\\local\\programs\\python\\python310\\lib\\site-packages (from seaborn) (3.5.1)\n",
      "Requirement already satisfied: scipy>=1.0 in c:\\users\\panka\\appdata\\local\\programs\\python\\python310\\lib\\site-packages (from seaborn) (1.7.3)\n",
      "Requirement already satisfied: numpy>=1.15 in c:\\users\\panka\\appdata\\local\\programs\\python\\python310\\lib\\site-packages (from seaborn) (1.22.0)\n",
      "Requirement already satisfied: pandas>=0.23 in c:\\users\\panka\\appdata\\local\\programs\\python\\python310\\lib\\site-packages (from seaborn) (1.3.5)\n",
      "Requirement already satisfied: packaging>=20.0 in c:\\users\\panka\\appdata\\local\\programs\\python\\python310\\lib\\site-packages (from matplotlib>=2.2->seaborn) (21.3)\n",
      "Requirement already satisfied: fonttools>=4.22.0 in c:\\users\\panka\\appdata\\local\\programs\\python\\python310\\lib\\site-packages (from matplotlib>=2.2->seaborn) (4.28.5)\n",
      "Requirement already satisfied: cycler>=0.10 in c:\\users\\panka\\appdata\\local\\programs\\python\\python310\\lib\\site-packages (from matplotlib>=2.2->seaborn) (0.11.0)\n",
      "Requirement already satisfied: pyparsing>=2.2.1 in c:\\users\\panka\\appdata\\local\\programs\\python\\python310\\lib\\site-packages (from matplotlib>=2.2->seaborn) (3.0.0)\n",
      "Requirement already satisfied: kiwisolver>=1.0.1 in c:\\users\\panka\\appdata\\local\\programs\\python\\python310\\lib\\site-packages (from matplotlib>=2.2->seaborn) (1.3.2)\n",
      "Requirement already satisfied: python-dateutil>=2.7 in c:\\users\\panka\\appdata\\local\\programs\\python\\python310\\lib\\site-packages (from matplotlib>=2.2->seaborn) (2.8.2)\n",
      "Requirement already satisfied: pillow>=6.2.0 in c:\\users\\panka\\appdata\\local\\programs\\python\\python310\\lib\\site-packages (from matplotlib>=2.2->seaborn) (9.0.0)\n",
      "Requirement already satisfied: pytz>=2017.3 in c:\\users\\panka\\appdata\\local\\programs\\python\\python310\\lib\\site-packages (from pandas>=0.23->seaborn) (2021.3)\n",
      "Requirement already satisfied: six>=1.5 in c:\\users\\panka\\appdata\\local\\programs\\python\\python310\\lib\\site-packages (from python-dateutil>=2.7->matplotlib>=2.2->seaborn) (1.16.0)\n",
      "Installing collected packages: seaborn\n",
      "Successfully installed seaborn-0.11.2\n",
      "\n"
     ]
    },
    {
     "name": "stderr",
     "output_type": "stream",
     "text": [
      "WARNING: You are using pip version 21.2.3; however, version 22.0.4 is available.\n",
      "You should consider upgrading via the 'C:\\Users\\panka\\AppData\\Local\\Programs\\Python\\Python310\\python.exe -m pip install --upgrade pip' command.\n"
     ]
    }
   ],
   "source": [
    "pip install seaborn"
   ]
  },
  {
   "cell_type": "code",
   "execution_count": 15,
   "metadata": {},
   "outputs": [],
   "source": [
    "import pandas as pd\n",
    "import datetime                                        # To handle dates\n",
    "import calendar                                        # To get month\n",
    "import statsmodels.formula.api as sm\n",
    "import matplotlib.pylab as plt\n",
    "import numpy as np\n",
    "import seaborn as sns\n",
    "import sklearn.metrics as metrics                      # To get regression metrics\n",
    "import scipy as sp\n",
    "import time                                            # To do time complexity analysis\n",
    "import random\n",
    "import copy\n",
    "import profile\n",
    "import cProfile\n",
    "from sklearn.cluster import KMeans                     # perform clustering operation\n",
    "%matplotlib inline"
   ]
  },
  {
   "cell_type": "code",
   "execution_count": 3,
   "metadata": {
    "collapsed": true
   },
   "outputs": [],
   "source": [
    "#import os\n",
    "\n",
    "#os.chdir(\"C:\\\\Users\\\\GagandeepSingh\\\\Github\\\\Walmart-Sales-Forecasting\")"
   ]
  },
  {
   "cell_type": "markdown",
   "metadata": {},
   "source": [
    "# Create Master Data Set and initial analysis"
   ]
  },
  {
   "cell_type": "markdown",
   "metadata": {},
   "source": [
    "## Read all data"
   ]
  },
  {
   "cell_type": "code",
   "execution_count": 16,
   "metadata": {},
   "outputs": [],
   "source": [
    "#loading in raw data\n",
    "features_df = pd.read_csv(\"features.csv\")\n",
    "stores_df = pd.read_csv(\"stores.csv\")\n",
    "train_df = pd.read_csv(\"train.csv\")"
   ]
  },
  {
   "cell_type": "markdown",
   "metadata": {},
   "source": [
    "<font color = 'green'>Let's see how the data looks like. </font>"
   ]
  },
  {
   "cell_type": "code",
   "execution_count": 17,
   "metadata": {},
   "outputs": [
    {
     "data": {
      "text/html": [
       "<div>\n",
       "<style scoped>\n",
       "    .dataframe tbody tr th:only-of-type {\n",
       "        vertical-align: middle;\n",
       "    }\n",
       "\n",
       "    .dataframe tbody tr th {\n",
       "        vertical-align: top;\n",
       "    }\n",
       "\n",
       "    .dataframe thead th {\n",
       "        text-align: right;\n",
       "    }\n",
       "</style>\n",
       "<table border=\"1\" class=\"dataframe\">\n",
       "  <thead>\n",
       "    <tr style=\"text-align: right;\">\n",
       "      <th></th>\n",
       "      <th>Store</th>\n",
       "      <th>Date</th>\n",
       "      <th>Temperature</th>\n",
       "      <th>Fuel_Price</th>\n",
       "      <th>MarkDown1</th>\n",
       "      <th>MarkDown2</th>\n",
       "      <th>MarkDown3</th>\n",
       "      <th>MarkDown4</th>\n",
       "      <th>MarkDown5</th>\n",
       "      <th>CPI</th>\n",
       "      <th>Unemployment</th>\n",
       "      <th>IsHoliday</th>\n",
       "    </tr>\n",
       "  </thead>\n",
       "  <tbody>\n",
       "    <tr>\n",
       "      <th>0</th>\n",
       "      <td>1</td>\n",
       "      <td>2010-02-05</td>\n",
       "      <td>42.31</td>\n",
       "      <td>2.572</td>\n",
       "      <td>NaN</td>\n",
       "      <td>NaN</td>\n",
       "      <td>NaN</td>\n",
       "      <td>NaN</td>\n",
       "      <td>NaN</td>\n",
       "      <td>211.096358</td>\n",
       "      <td>8.106</td>\n",
       "      <td>False</td>\n",
       "    </tr>\n",
       "    <tr>\n",
       "      <th>1</th>\n",
       "      <td>1</td>\n",
       "      <td>2010-02-12</td>\n",
       "      <td>38.51</td>\n",
       "      <td>2.548</td>\n",
       "      <td>NaN</td>\n",
       "      <td>NaN</td>\n",
       "      <td>NaN</td>\n",
       "      <td>NaN</td>\n",
       "      <td>NaN</td>\n",
       "      <td>211.242170</td>\n",
       "      <td>8.106</td>\n",
       "      <td>True</td>\n",
       "    </tr>\n",
       "    <tr>\n",
       "      <th>2</th>\n",
       "      <td>1</td>\n",
       "      <td>2010-02-19</td>\n",
       "      <td>39.93</td>\n",
       "      <td>2.514</td>\n",
       "      <td>NaN</td>\n",
       "      <td>NaN</td>\n",
       "      <td>NaN</td>\n",
       "      <td>NaN</td>\n",
       "      <td>NaN</td>\n",
       "      <td>211.289143</td>\n",
       "      <td>8.106</td>\n",
       "      <td>False</td>\n",
       "    </tr>\n",
       "    <tr>\n",
       "      <th>3</th>\n",
       "      <td>1</td>\n",
       "      <td>2010-02-26</td>\n",
       "      <td>46.63</td>\n",
       "      <td>2.561</td>\n",
       "      <td>NaN</td>\n",
       "      <td>NaN</td>\n",
       "      <td>NaN</td>\n",
       "      <td>NaN</td>\n",
       "      <td>NaN</td>\n",
       "      <td>211.319643</td>\n",
       "      <td>8.106</td>\n",
       "      <td>False</td>\n",
       "    </tr>\n",
       "    <tr>\n",
       "      <th>4</th>\n",
       "      <td>1</td>\n",
       "      <td>2010-03-05</td>\n",
       "      <td>46.50</td>\n",
       "      <td>2.625</td>\n",
       "      <td>NaN</td>\n",
       "      <td>NaN</td>\n",
       "      <td>NaN</td>\n",
       "      <td>NaN</td>\n",
       "      <td>NaN</td>\n",
       "      <td>211.350143</td>\n",
       "      <td>8.106</td>\n",
       "      <td>False</td>\n",
       "    </tr>\n",
       "  </tbody>\n",
       "</table>\n",
       "</div>"
      ],
      "text/plain": [
       "   Store        Date  Temperature  Fuel_Price  MarkDown1  MarkDown2  \\\n",
       "0      1  2010-02-05        42.31       2.572        NaN        NaN   \n",
       "1      1  2010-02-12        38.51       2.548        NaN        NaN   \n",
       "2      1  2010-02-19        39.93       2.514        NaN        NaN   \n",
       "3      1  2010-02-26        46.63       2.561        NaN        NaN   \n",
       "4      1  2010-03-05        46.50       2.625        NaN        NaN   \n",
       "\n",
       "   MarkDown3  MarkDown4  MarkDown5         CPI  Unemployment  IsHoliday  \n",
       "0        NaN        NaN        NaN  211.096358         8.106      False  \n",
       "1        NaN        NaN        NaN  211.242170         8.106       True  \n",
       "2        NaN        NaN        NaN  211.289143         8.106      False  \n",
       "3        NaN        NaN        NaN  211.319643         8.106      False  \n",
       "4        NaN        NaN        NaN  211.350143         8.106      False  "
      ]
     },
     "execution_count": 17,
     "metadata": {},
     "output_type": "execute_result"
    }
   ],
   "source": [
    "features_df.head()"
   ]
  },
  {
   "cell_type": "code",
   "execution_count": 18,
   "metadata": {},
   "outputs": [
    {
     "data": {
      "text/html": [
       "<div>\n",
       "<style scoped>\n",
       "    .dataframe tbody tr th:only-of-type {\n",
       "        vertical-align: middle;\n",
       "    }\n",
       "\n",
       "    .dataframe tbody tr th {\n",
       "        vertical-align: top;\n",
       "    }\n",
       "\n",
       "    .dataframe thead th {\n",
       "        text-align: right;\n",
       "    }\n",
       "</style>\n",
       "<table border=\"1\" class=\"dataframe\">\n",
       "  <thead>\n",
       "    <tr style=\"text-align: right;\">\n",
       "      <th></th>\n",
       "      <th>Store</th>\n",
       "      <th>Date</th>\n",
       "      <th>Temperature</th>\n",
       "      <th>Fuel_Price</th>\n",
       "      <th>MarkDown1</th>\n",
       "      <th>MarkDown2</th>\n",
       "      <th>MarkDown3</th>\n",
       "      <th>MarkDown4</th>\n",
       "      <th>MarkDown5</th>\n",
       "      <th>CPI</th>\n",
       "      <th>Unemployment</th>\n",
       "      <th>IsHoliday</th>\n",
       "    </tr>\n",
       "  </thead>\n",
       "  <tbody>\n",
       "    <tr>\n",
       "      <th>8185</th>\n",
       "      <td>45</td>\n",
       "      <td>2013-06-28</td>\n",
       "      <td>76.05</td>\n",
       "      <td>3.639</td>\n",
       "      <td>4842.29</td>\n",
       "      <td>975.03</td>\n",
       "      <td>3.00</td>\n",
       "      <td>2449.97</td>\n",
       "      <td>3169.69</td>\n",
       "      <td>NaN</td>\n",
       "      <td>NaN</td>\n",
       "      <td>False</td>\n",
       "    </tr>\n",
       "    <tr>\n",
       "      <th>8186</th>\n",
       "      <td>45</td>\n",
       "      <td>2013-07-05</td>\n",
       "      <td>77.50</td>\n",
       "      <td>3.614</td>\n",
       "      <td>9090.48</td>\n",
       "      <td>2268.58</td>\n",
       "      <td>582.74</td>\n",
       "      <td>5797.47</td>\n",
       "      <td>1514.93</td>\n",
       "      <td>NaN</td>\n",
       "      <td>NaN</td>\n",
       "      <td>False</td>\n",
       "    </tr>\n",
       "    <tr>\n",
       "      <th>8187</th>\n",
       "      <td>45</td>\n",
       "      <td>2013-07-12</td>\n",
       "      <td>79.37</td>\n",
       "      <td>3.614</td>\n",
       "      <td>3789.94</td>\n",
       "      <td>1827.31</td>\n",
       "      <td>85.72</td>\n",
       "      <td>744.84</td>\n",
       "      <td>2150.36</td>\n",
       "      <td>NaN</td>\n",
       "      <td>NaN</td>\n",
       "      <td>False</td>\n",
       "    </tr>\n",
       "    <tr>\n",
       "      <th>8188</th>\n",
       "      <td>45</td>\n",
       "      <td>2013-07-19</td>\n",
       "      <td>82.84</td>\n",
       "      <td>3.737</td>\n",
       "      <td>2961.49</td>\n",
       "      <td>1047.07</td>\n",
       "      <td>204.19</td>\n",
       "      <td>363.00</td>\n",
       "      <td>1059.46</td>\n",
       "      <td>NaN</td>\n",
       "      <td>NaN</td>\n",
       "      <td>False</td>\n",
       "    </tr>\n",
       "    <tr>\n",
       "      <th>8189</th>\n",
       "      <td>45</td>\n",
       "      <td>2013-07-26</td>\n",
       "      <td>76.06</td>\n",
       "      <td>3.804</td>\n",
       "      <td>212.02</td>\n",
       "      <td>851.73</td>\n",
       "      <td>2.06</td>\n",
       "      <td>10.88</td>\n",
       "      <td>1864.57</td>\n",
       "      <td>NaN</td>\n",
       "      <td>NaN</td>\n",
       "      <td>False</td>\n",
       "    </tr>\n",
       "  </tbody>\n",
       "</table>\n",
       "</div>"
      ],
      "text/plain": [
       "      Store        Date  Temperature  Fuel_Price  MarkDown1  MarkDown2  \\\n",
       "8185     45  2013-06-28        76.05       3.639    4842.29     975.03   \n",
       "8186     45  2013-07-05        77.50       3.614    9090.48    2268.58   \n",
       "8187     45  2013-07-12        79.37       3.614    3789.94    1827.31   \n",
       "8188     45  2013-07-19        82.84       3.737    2961.49    1047.07   \n",
       "8189     45  2013-07-26        76.06       3.804     212.02     851.73   \n",
       "\n",
       "      MarkDown3  MarkDown4  MarkDown5  CPI  Unemployment  IsHoliday  \n",
       "8185       3.00    2449.97    3169.69  NaN           NaN      False  \n",
       "8186     582.74    5797.47    1514.93  NaN           NaN      False  \n",
       "8187      85.72     744.84    2150.36  NaN           NaN      False  \n",
       "8188     204.19     363.00    1059.46  NaN           NaN      False  \n",
       "8189       2.06      10.88    1864.57  NaN           NaN      False  "
      ]
     },
     "execution_count": 18,
     "metadata": {},
     "output_type": "execute_result"
    }
   ],
   "source": [
    "features_df.tail()"
   ]
  },
  {
   "cell_type": "code",
   "execution_count": 19,
   "metadata": {},
   "outputs": [
    {
     "data": {
      "text/html": [
       "<div>\n",
       "<style scoped>\n",
       "    .dataframe tbody tr th:only-of-type {\n",
       "        vertical-align: middle;\n",
       "    }\n",
       "\n",
       "    .dataframe tbody tr th {\n",
       "        vertical-align: top;\n",
       "    }\n",
       "\n",
       "    .dataframe thead th {\n",
       "        text-align: right;\n",
       "    }\n",
       "</style>\n",
       "<table border=\"1\" class=\"dataframe\">\n",
       "  <thead>\n",
       "    <tr style=\"text-align: right;\">\n",
       "      <th></th>\n",
       "      <th>Store</th>\n",
       "      <th>Temperature</th>\n",
       "      <th>Fuel_Price</th>\n",
       "      <th>MarkDown1</th>\n",
       "      <th>MarkDown2</th>\n",
       "      <th>MarkDown3</th>\n",
       "      <th>MarkDown4</th>\n",
       "      <th>MarkDown5</th>\n",
       "      <th>CPI</th>\n",
       "      <th>Unemployment</th>\n",
       "    </tr>\n",
       "  </thead>\n",
       "  <tbody>\n",
       "    <tr>\n",
       "      <th>count</th>\n",
       "      <td>8190.000000</td>\n",
       "      <td>8190.000000</td>\n",
       "      <td>8190.000000</td>\n",
       "      <td>4032.000000</td>\n",
       "      <td>2921.000000</td>\n",
       "      <td>3613.000000</td>\n",
       "      <td>3464.000000</td>\n",
       "      <td>4050.000000</td>\n",
       "      <td>7605.000000</td>\n",
       "      <td>7605.000000</td>\n",
       "    </tr>\n",
       "    <tr>\n",
       "      <th>mean</th>\n",
       "      <td>23.000000</td>\n",
       "      <td>59.356198</td>\n",
       "      <td>3.405992</td>\n",
       "      <td>7032.371786</td>\n",
       "      <td>3384.176594</td>\n",
       "      <td>1760.100180</td>\n",
       "      <td>3292.935886</td>\n",
       "      <td>4132.216422</td>\n",
       "      <td>172.460809</td>\n",
       "      <td>7.826821</td>\n",
       "    </tr>\n",
       "    <tr>\n",
       "      <th>std</th>\n",
       "      <td>12.987966</td>\n",
       "      <td>18.678607</td>\n",
       "      <td>0.431337</td>\n",
       "      <td>9262.747448</td>\n",
       "      <td>8793.583016</td>\n",
       "      <td>11276.462208</td>\n",
       "      <td>6792.329861</td>\n",
       "      <td>13086.690278</td>\n",
       "      <td>39.738346</td>\n",
       "      <td>1.877259</td>\n",
       "    </tr>\n",
       "    <tr>\n",
       "      <th>min</th>\n",
       "      <td>1.000000</td>\n",
       "      <td>-7.290000</td>\n",
       "      <td>2.472000</td>\n",
       "      <td>-2781.450000</td>\n",
       "      <td>-265.760000</td>\n",
       "      <td>-179.260000</td>\n",
       "      <td>0.220000</td>\n",
       "      <td>-185.170000</td>\n",
       "      <td>126.064000</td>\n",
       "      <td>3.684000</td>\n",
       "    </tr>\n",
       "    <tr>\n",
       "      <th>25%</th>\n",
       "      <td>12.000000</td>\n",
       "      <td>45.902500</td>\n",
       "      <td>3.041000</td>\n",
       "      <td>1577.532500</td>\n",
       "      <td>68.880000</td>\n",
       "      <td>6.600000</td>\n",
       "      <td>304.687500</td>\n",
       "      <td>1440.827500</td>\n",
       "      <td>132.364839</td>\n",
       "      <td>6.634000</td>\n",
       "    </tr>\n",
       "    <tr>\n",
       "      <th>50%</th>\n",
       "      <td>23.000000</td>\n",
       "      <td>60.710000</td>\n",
       "      <td>3.513000</td>\n",
       "      <td>4743.580000</td>\n",
       "      <td>364.570000</td>\n",
       "      <td>36.260000</td>\n",
       "      <td>1176.425000</td>\n",
       "      <td>2727.135000</td>\n",
       "      <td>182.764003</td>\n",
       "      <td>7.806000</td>\n",
       "    </tr>\n",
       "    <tr>\n",
       "      <th>75%</th>\n",
       "      <td>34.000000</td>\n",
       "      <td>73.880000</td>\n",
       "      <td>3.743000</td>\n",
       "      <td>8923.310000</td>\n",
       "      <td>2153.350000</td>\n",
       "      <td>163.150000</td>\n",
       "      <td>3310.007500</td>\n",
       "      <td>4832.555000</td>\n",
       "      <td>213.932412</td>\n",
       "      <td>8.567000</td>\n",
       "    </tr>\n",
       "    <tr>\n",
       "      <th>max</th>\n",
       "      <td>45.000000</td>\n",
       "      <td>101.950000</td>\n",
       "      <td>4.468000</td>\n",
       "      <td>103184.980000</td>\n",
       "      <td>104519.540000</td>\n",
       "      <td>149483.310000</td>\n",
       "      <td>67474.850000</td>\n",
       "      <td>771448.100000</td>\n",
       "      <td>228.976456</td>\n",
       "      <td>14.313000</td>\n",
       "    </tr>\n",
       "  </tbody>\n",
       "</table>\n",
       "</div>"
      ],
      "text/plain": [
       "             Store  Temperature   Fuel_Price      MarkDown1      MarkDown2  \\\n",
       "count  8190.000000  8190.000000  8190.000000    4032.000000    2921.000000   \n",
       "mean     23.000000    59.356198     3.405992    7032.371786    3384.176594   \n",
       "std      12.987966    18.678607     0.431337    9262.747448    8793.583016   \n",
       "min       1.000000    -7.290000     2.472000   -2781.450000    -265.760000   \n",
       "25%      12.000000    45.902500     3.041000    1577.532500      68.880000   \n",
       "50%      23.000000    60.710000     3.513000    4743.580000     364.570000   \n",
       "75%      34.000000    73.880000     3.743000    8923.310000    2153.350000   \n",
       "max      45.000000   101.950000     4.468000  103184.980000  104519.540000   \n",
       "\n",
       "           MarkDown3     MarkDown4      MarkDown5          CPI  Unemployment  \n",
       "count    3613.000000   3464.000000    4050.000000  7605.000000   7605.000000  \n",
       "mean     1760.100180   3292.935886    4132.216422   172.460809      7.826821  \n",
       "std     11276.462208   6792.329861   13086.690278    39.738346      1.877259  \n",
       "min      -179.260000      0.220000    -185.170000   126.064000      3.684000  \n",
       "25%         6.600000    304.687500    1440.827500   132.364839      6.634000  \n",
       "50%        36.260000   1176.425000    2727.135000   182.764003      7.806000  \n",
       "75%       163.150000   3310.007500    4832.555000   213.932412      8.567000  \n",
       "max    149483.310000  67474.850000  771448.100000   228.976456     14.313000  "
      ]
     },
     "execution_count": 19,
     "metadata": {},
     "output_type": "execute_result"
    }
   ],
   "source": [
    "features_df.describe()"
   ]
  },
  {
   "cell_type": "code",
   "execution_count": 20,
   "metadata": {},
   "outputs": [
    {
     "data": {
      "text/html": [
       "<div>\n",
       "<style scoped>\n",
       "    .dataframe tbody tr th:only-of-type {\n",
       "        vertical-align: middle;\n",
       "    }\n",
       "\n",
       "    .dataframe tbody tr th {\n",
       "        vertical-align: top;\n",
       "    }\n",
       "\n",
       "    .dataframe thead th {\n",
       "        text-align: right;\n",
       "    }\n",
       "</style>\n",
       "<table border=\"1\" class=\"dataframe\">\n",
       "  <thead>\n",
       "    <tr style=\"text-align: right;\">\n",
       "      <th></th>\n",
       "      <th>Store</th>\n",
       "      <th>Type</th>\n",
       "      <th>Size</th>\n",
       "    </tr>\n",
       "  </thead>\n",
       "  <tbody>\n",
       "    <tr>\n",
       "      <th>0</th>\n",
       "      <td>1</td>\n",
       "      <td>A</td>\n",
       "      <td>151315</td>\n",
       "    </tr>\n",
       "    <tr>\n",
       "      <th>1</th>\n",
       "      <td>2</td>\n",
       "      <td>A</td>\n",
       "      <td>202307</td>\n",
       "    </tr>\n",
       "    <tr>\n",
       "      <th>2</th>\n",
       "      <td>3</td>\n",
       "      <td>B</td>\n",
       "      <td>37392</td>\n",
       "    </tr>\n",
       "    <tr>\n",
       "      <th>3</th>\n",
       "      <td>4</td>\n",
       "      <td>A</td>\n",
       "      <td>205863</td>\n",
       "    </tr>\n",
       "    <tr>\n",
       "      <th>4</th>\n",
       "      <td>5</td>\n",
       "      <td>B</td>\n",
       "      <td>34875</td>\n",
       "    </tr>\n",
       "  </tbody>\n",
       "</table>\n",
       "</div>"
      ],
      "text/plain": [
       "   Store Type    Size\n",
       "0      1    A  151315\n",
       "1      2    A  202307\n",
       "2      3    B   37392\n",
       "3      4    A  205863\n",
       "4      5    B   34875"
      ]
     },
     "execution_count": 20,
     "metadata": {},
     "output_type": "execute_result"
    }
   ],
   "source": [
    "stores_df.head()"
   ]
  },
  {
   "cell_type": "code",
   "execution_count": 21,
   "metadata": {},
   "outputs": [
    {
     "data": {
      "text/html": [
       "<div>\n",
       "<style scoped>\n",
       "    .dataframe tbody tr th:only-of-type {\n",
       "        vertical-align: middle;\n",
       "    }\n",
       "\n",
       "    .dataframe tbody tr th {\n",
       "        vertical-align: top;\n",
       "    }\n",
       "\n",
       "    .dataframe thead th {\n",
       "        text-align: right;\n",
       "    }\n",
       "</style>\n",
       "<table border=\"1\" class=\"dataframe\">\n",
       "  <thead>\n",
       "    <tr style=\"text-align: right;\">\n",
       "      <th></th>\n",
       "      <th>Store</th>\n",
       "      <th>Size</th>\n",
       "    </tr>\n",
       "  </thead>\n",
       "  <tbody>\n",
       "    <tr>\n",
       "      <th>count</th>\n",
       "      <td>45.000000</td>\n",
       "      <td>45.000000</td>\n",
       "    </tr>\n",
       "    <tr>\n",
       "      <th>mean</th>\n",
       "      <td>23.000000</td>\n",
       "      <td>130287.600000</td>\n",
       "    </tr>\n",
       "    <tr>\n",
       "      <th>std</th>\n",
       "      <td>13.133926</td>\n",
       "      <td>63825.271991</td>\n",
       "    </tr>\n",
       "    <tr>\n",
       "      <th>min</th>\n",
       "      <td>1.000000</td>\n",
       "      <td>34875.000000</td>\n",
       "    </tr>\n",
       "    <tr>\n",
       "      <th>25%</th>\n",
       "      <td>12.000000</td>\n",
       "      <td>70713.000000</td>\n",
       "    </tr>\n",
       "    <tr>\n",
       "      <th>50%</th>\n",
       "      <td>23.000000</td>\n",
       "      <td>126512.000000</td>\n",
       "    </tr>\n",
       "    <tr>\n",
       "      <th>75%</th>\n",
       "      <td>34.000000</td>\n",
       "      <td>202307.000000</td>\n",
       "    </tr>\n",
       "    <tr>\n",
       "      <th>max</th>\n",
       "      <td>45.000000</td>\n",
       "      <td>219622.000000</td>\n",
       "    </tr>\n",
       "  </tbody>\n",
       "</table>\n",
       "</div>"
      ],
      "text/plain": [
       "           Store           Size\n",
       "count  45.000000      45.000000\n",
       "mean   23.000000  130287.600000\n",
       "std    13.133926   63825.271991\n",
       "min     1.000000   34875.000000\n",
       "25%    12.000000   70713.000000\n",
       "50%    23.000000  126512.000000\n",
       "75%    34.000000  202307.000000\n",
       "max    45.000000  219622.000000"
      ]
     },
     "execution_count": 21,
     "metadata": {},
     "output_type": "execute_result"
    }
   ],
   "source": [
    "stores_df.describe()"
   ]
  },
  {
   "cell_type": "code",
   "execution_count": 22,
   "metadata": {},
   "outputs": [
    {
     "data": {
      "text/html": [
       "<div>\n",
       "<style scoped>\n",
       "    .dataframe tbody tr th:only-of-type {\n",
       "        vertical-align: middle;\n",
       "    }\n",
       "\n",
       "    .dataframe tbody tr th {\n",
       "        vertical-align: top;\n",
       "    }\n",
       "\n",
       "    .dataframe thead th {\n",
       "        text-align: right;\n",
       "    }\n",
       "</style>\n",
       "<table border=\"1\" class=\"dataframe\">\n",
       "  <thead>\n",
       "    <tr style=\"text-align: right;\">\n",
       "      <th></th>\n",
       "      <th>Store</th>\n",
       "      <th>Dept</th>\n",
       "      <th>Date</th>\n",
       "      <th>Weekly_Sales</th>\n",
       "      <th>IsHoliday</th>\n",
       "    </tr>\n",
       "  </thead>\n",
       "  <tbody>\n",
       "    <tr>\n",
       "      <th>0</th>\n",
       "      <td>1</td>\n",
       "      <td>1</td>\n",
       "      <td>2010-02-05</td>\n",
       "      <td>24924.50</td>\n",
       "      <td>False</td>\n",
       "    </tr>\n",
       "    <tr>\n",
       "      <th>1</th>\n",
       "      <td>1</td>\n",
       "      <td>1</td>\n",
       "      <td>2010-02-12</td>\n",
       "      <td>46039.49</td>\n",
       "      <td>True</td>\n",
       "    </tr>\n",
       "    <tr>\n",
       "      <th>2</th>\n",
       "      <td>1</td>\n",
       "      <td>1</td>\n",
       "      <td>2010-02-19</td>\n",
       "      <td>41595.55</td>\n",
       "      <td>False</td>\n",
       "    </tr>\n",
       "    <tr>\n",
       "      <th>3</th>\n",
       "      <td>1</td>\n",
       "      <td>1</td>\n",
       "      <td>2010-02-26</td>\n",
       "      <td>19403.54</td>\n",
       "      <td>False</td>\n",
       "    </tr>\n",
       "    <tr>\n",
       "      <th>4</th>\n",
       "      <td>1</td>\n",
       "      <td>1</td>\n",
       "      <td>2010-03-05</td>\n",
       "      <td>21827.90</td>\n",
       "      <td>False</td>\n",
       "    </tr>\n",
       "  </tbody>\n",
       "</table>\n",
       "</div>"
      ],
      "text/plain": [
       "   Store  Dept        Date  Weekly_Sales  IsHoliday\n",
       "0      1     1  2010-02-05      24924.50      False\n",
       "1      1     1  2010-02-12      46039.49       True\n",
       "2      1     1  2010-02-19      41595.55      False\n",
       "3      1     1  2010-02-26      19403.54      False\n",
       "4      1     1  2010-03-05      21827.90      False"
      ]
     },
     "execution_count": 22,
     "metadata": {},
     "output_type": "execute_result"
    }
   ],
   "source": [
    "train_df.head()"
   ]
  },
  {
   "cell_type": "code",
   "execution_count": 23,
   "metadata": {},
   "outputs": [
    {
     "data": {
      "text/html": [
       "<div>\n",
       "<style scoped>\n",
       "    .dataframe tbody tr th:only-of-type {\n",
       "        vertical-align: middle;\n",
       "    }\n",
       "\n",
       "    .dataframe tbody tr th {\n",
       "        vertical-align: top;\n",
       "    }\n",
       "\n",
       "    .dataframe thead th {\n",
       "        text-align: right;\n",
       "    }\n",
       "</style>\n",
       "<table border=\"1\" class=\"dataframe\">\n",
       "  <thead>\n",
       "    <tr style=\"text-align: right;\">\n",
       "      <th></th>\n",
       "      <th>Store</th>\n",
       "      <th>Dept</th>\n",
       "      <th>Date</th>\n",
       "      <th>Weekly_Sales</th>\n",
       "      <th>IsHoliday</th>\n",
       "    </tr>\n",
       "  </thead>\n",
       "  <tbody>\n",
       "    <tr>\n",
       "      <th>421565</th>\n",
       "      <td>45</td>\n",
       "      <td>98</td>\n",
       "      <td>2012-09-28</td>\n",
       "      <td>508.37</td>\n",
       "      <td>False</td>\n",
       "    </tr>\n",
       "    <tr>\n",
       "      <th>421566</th>\n",
       "      <td>45</td>\n",
       "      <td>98</td>\n",
       "      <td>2012-10-05</td>\n",
       "      <td>628.10</td>\n",
       "      <td>False</td>\n",
       "    </tr>\n",
       "    <tr>\n",
       "      <th>421567</th>\n",
       "      <td>45</td>\n",
       "      <td>98</td>\n",
       "      <td>2012-10-12</td>\n",
       "      <td>1061.02</td>\n",
       "      <td>False</td>\n",
       "    </tr>\n",
       "    <tr>\n",
       "      <th>421568</th>\n",
       "      <td>45</td>\n",
       "      <td>98</td>\n",
       "      <td>2012-10-19</td>\n",
       "      <td>760.01</td>\n",
       "      <td>False</td>\n",
       "    </tr>\n",
       "    <tr>\n",
       "      <th>421569</th>\n",
       "      <td>45</td>\n",
       "      <td>98</td>\n",
       "      <td>2012-10-26</td>\n",
       "      <td>1076.80</td>\n",
       "      <td>False</td>\n",
       "    </tr>\n",
       "  </tbody>\n",
       "</table>\n",
       "</div>"
      ],
      "text/plain": [
       "        Store  Dept        Date  Weekly_Sales  IsHoliday\n",
       "421565     45    98  2012-09-28        508.37      False\n",
       "421566     45    98  2012-10-05        628.10      False\n",
       "421567     45    98  2012-10-12       1061.02      False\n",
       "421568     45    98  2012-10-19        760.01      False\n",
       "421569     45    98  2012-10-26       1076.80      False"
      ]
     },
     "execution_count": 23,
     "metadata": {},
     "output_type": "execute_result"
    }
   ],
   "source": [
    "train_df.tail()"
   ]
  },
  {
   "cell_type": "code",
   "execution_count": 24,
   "metadata": {},
   "outputs": [
    {
     "data": {
      "text/plain": [
       "(421570, 5)"
      ]
     },
     "execution_count": 24,
     "metadata": {},
     "output_type": "execute_result"
    }
   ],
   "source": [
    "train_df.shape"
   ]
  },
  {
   "cell_type": "code",
   "execution_count": 25,
   "metadata": {},
   "outputs": [
    {
     "data": {
      "text/html": [
       "<div>\n",
       "<style scoped>\n",
       "    .dataframe tbody tr th:only-of-type {\n",
       "        vertical-align: middle;\n",
       "    }\n",
       "\n",
       "    .dataframe tbody tr th {\n",
       "        vertical-align: top;\n",
       "    }\n",
       "\n",
       "    .dataframe thead th {\n",
       "        text-align: right;\n",
       "    }\n",
       "</style>\n",
       "<table border=\"1\" class=\"dataframe\">\n",
       "  <thead>\n",
       "    <tr style=\"text-align: right;\">\n",
       "      <th></th>\n",
       "      <th>Store</th>\n",
       "      <th>Dept</th>\n",
       "      <th>Weekly_Sales</th>\n",
       "    </tr>\n",
       "  </thead>\n",
       "  <tbody>\n",
       "    <tr>\n",
       "      <th>count</th>\n",
       "      <td>421570.000000</td>\n",
       "      <td>421570.000000</td>\n",
       "      <td>421570.000000</td>\n",
       "    </tr>\n",
       "    <tr>\n",
       "      <th>mean</th>\n",
       "      <td>22.200546</td>\n",
       "      <td>44.260317</td>\n",
       "      <td>15981.258123</td>\n",
       "    </tr>\n",
       "    <tr>\n",
       "      <th>std</th>\n",
       "      <td>12.785297</td>\n",
       "      <td>30.492054</td>\n",
       "      <td>22711.183519</td>\n",
       "    </tr>\n",
       "    <tr>\n",
       "      <th>min</th>\n",
       "      <td>1.000000</td>\n",
       "      <td>1.000000</td>\n",
       "      <td>-4988.940000</td>\n",
       "    </tr>\n",
       "    <tr>\n",
       "      <th>25%</th>\n",
       "      <td>11.000000</td>\n",
       "      <td>18.000000</td>\n",
       "      <td>2079.650000</td>\n",
       "    </tr>\n",
       "    <tr>\n",
       "      <th>50%</th>\n",
       "      <td>22.000000</td>\n",
       "      <td>37.000000</td>\n",
       "      <td>7612.030000</td>\n",
       "    </tr>\n",
       "    <tr>\n",
       "      <th>75%</th>\n",
       "      <td>33.000000</td>\n",
       "      <td>74.000000</td>\n",
       "      <td>20205.852500</td>\n",
       "    </tr>\n",
       "    <tr>\n",
       "      <th>max</th>\n",
       "      <td>45.000000</td>\n",
       "      <td>99.000000</td>\n",
       "      <td>693099.360000</td>\n",
       "    </tr>\n",
       "  </tbody>\n",
       "</table>\n",
       "</div>"
      ],
      "text/plain": [
       "               Store           Dept   Weekly_Sales\n",
       "count  421570.000000  421570.000000  421570.000000\n",
       "mean       22.200546      44.260317   15981.258123\n",
       "std        12.785297      30.492054   22711.183519\n",
       "min         1.000000       1.000000   -4988.940000\n",
       "25%        11.000000      18.000000    2079.650000\n",
       "50%        22.000000      37.000000    7612.030000\n",
       "75%        33.000000      74.000000   20205.852500\n",
       "max        45.000000      99.000000  693099.360000"
      ]
     },
     "execution_count": 25,
     "metadata": {},
     "output_type": "execute_result"
    }
   ],
   "source": [
    "train_df.describe()"
   ]
  },
  {
   "cell_type": "code",
   "execution_count": 26,
   "metadata": {},
   "outputs": [],
   "source": [
    "# Creating a custom season dictionary to identify the season in each month\n",
    "seasons_dict = {\n",
    "    1:\"Winter\",\n",
    "    2:\"Winter\",\n",
    "    3:\"Spring\",\n",
    "    4:\"Spring\",\n",
    "    5:\"Spring\",\n",
    "    6:\"Summer\",\n",
    "    7:\"Summer\",\n",
    "    8:\"Summer\",\n",
    "    9:\"Fall\",\n",
    "    10:\"Fall\",\n",
    "    11:\"Fall\",\n",
    "    12:\"Winter\"\n",
    "}"
   ]
  },
  {
   "cell_type": "code",
   "execution_count": 27,
   "metadata": {},
   "outputs": [],
   "source": [
    "# Creating the master dataset\n",
    "master_df = train_df.merge(stores_df, on='Store', how='left')\n",
    "master_df = master_df.merge(features_df, on=['Store', 'Date'], how='left')"
   ]
  },
  {
   "cell_type": "markdown",
   "metadata": {},
   "source": [
    "## Preliminary Analysis"
   ]
  },
  {
   "cell_type": "code",
   "execution_count": 28,
   "metadata": {},
   "outputs": [
    {
     "name": "stdout",
     "output_type": "stream",
     "text": [
      "count    421570.000000\n",
      "mean      15981.258123\n",
      "std       22711.183519\n",
      "min       -4988.940000\n",
      "25%        2079.650000\n",
      "50%        7612.030000\n",
      "75%       20205.852500\n",
      "max      693099.360000\n",
      "Name: Weekly_Sales, dtype: float64\n",
      "Percentile less than 3% provides only negative value :  -0.56\n"
     ]
    }
   ],
   "source": [
    "d = copy.deepcopy(master_df)\n",
    "\n",
    "d1 = d[\"Weekly_Sales\"]\n",
    "\n",
    "print(d[\"Weekly_Sales\"].describe())\n",
    "\n",
    "print(\"Percentile less than 3% provides only negative value : \",d[\"Weekly_Sales\"].quantile(0.003))"
   ]
  },
  {
   "cell_type": "code",
   "execution_count": 29,
   "metadata": {},
   "outputs": [
    {
     "name": "stdout",
     "output_type": "stream",
     "text": [
      "        Store  Dept        Date  Weekly_Sales  IsHoliday_x Type    Size  \\\n",
      "0           1     1  2010-02-05      24924.50        False    A  151315   \n",
      "1           1     1  2010-02-12      46039.49         True    A  151315   \n",
      "2           1     1  2010-02-19      41595.55        False    A  151315   \n",
      "3           1     1  2010-02-26      19403.54        False    A  151315   \n",
      "4           1     1  2010-03-05      21827.90        False    A  151315   \n",
      "...       ...   ...         ...           ...          ...  ...     ...   \n",
      "421565     45    98  2012-09-28        508.37        False    B  118221   \n",
      "421566     45    98  2012-10-05        628.10        False    B  118221   \n",
      "421567     45    98  2012-10-12       1061.02        False    B  118221   \n",
      "421568     45    98  2012-10-19        760.01        False    B  118221   \n",
      "421569     45    98  2012-10-26       1076.80        False    B  118221   \n",
      "\n",
      "        Temperature  Fuel_Price  MarkDown1  MarkDown2  MarkDown3  MarkDown4  \\\n",
      "0             42.31       2.572        NaN        NaN        NaN        NaN   \n",
      "1             38.51       2.548        NaN        NaN        NaN        NaN   \n",
      "2             39.93       2.514        NaN        NaN        NaN        NaN   \n",
      "3             46.63       2.561        NaN        NaN        NaN        NaN   \n",
      "4             46.50       2.625        NaN        NaN        NaN        NaN   \n",
      "...             ...         ...        ...        ...        ...        ...   \n",
      "421565        64.88       3.997    4556.61      20.64       1.50    1601.01   \n",
      "421566        64.89       3.985    5046.74        NaN      18.82    2253.43   \n",
      "421567        54.47       4.000    1956.28        NaN       7.89     599.32   \n",
      "421568        56.47       3.969    2004.02        NaN       3.18     437.73   \n",
      "421569        58.85       3.882    4018.91      58.08     100.00     211.94   \n",
      "\n",
      "        MarkDown5         CPI  Unemployment  IsHoliday_y  \n",
      "0             NaN  211.096358         8.106        False  \n",
      "1             NaN  211.242170         8.106         True  \n",
      "2             NaN  211.289143         8.106        False  \n",
      "3             NaN  211.319643         8.106        False  \n",
      "4             NaN  211.350143         8.106        False  \n",
      "...           ...         ...           ...          ...  \n",
      "421565    3288.25  192.013558         8.684        False  \n",
      "421566    2340.01  192.170412         8.667        False  \n",
      "421567    3990.54  192.327265         8.667        False  \n",
      "421568    1537.49  192.330854         8.667        False  \n",
      "421569     858.33  192.308899         8.667        False  \n",
      "\n",
      "[421570 rows x 17 columns]\n"
     ]
    }
   ],
   "source": [
    "print(master_df)"
   ]
  },
  {
   "cell_type": "code",
   "execution_count": 30,
   "metadata": {},
   "outputs": [
    {
     "name": "stdout",
     "output_type": "stream",
     "text": [
      "        Store  Dept        Date  Weekly_Sales  IsHoliday_x Type    Size  \\\n",
      "0           1     1  2010-02-05      24924.50        False    A  151315   \n",
      "1           1     1  2010-02-12      46039.49         True    A  151315   \n",
      "2           1     1  2010-02-19      41595.55        False    A  151315   \n",
      "3           1     1  2010-02-26      19403.54        False    A  151315   \n",
      "4           1     1  2010-03-05      21827.90        False    A  151315   \n",
      "...       ...   ...         ...           ...          ...  ...     ...   \n",
      "421565     45    98  2012-09-28        508.37        False    B  118221   \n",
      "421566     45    98  2012-10-05        628.10        False    B  118221   \n",
      "421567     45    98  2012-10-12       1061.02        False    B  118221   \n",
      "421568     45    98  2012-10-19        760.01        False    B  118221   \n",
      "421569     45    98  2012-10-26       1076.80        False    B  118221   \n",
      "\n",
      "        Temperature  Fuel_Price  MarkDown1  MarkDown2  MarkDown3  MarkDown4  \\\n",
      "0             42.31       2.572        NaN        NaN        NaN        NaN   \n",
      "1             38.51       2.548        NaN        NaN        NaN        NaN   \n",
      "2             39.93       2.514        NaN        NaN        NaN        NaN   \n",
      "3             46.63       2.561        NaN        NaN        NaN        NaN   \n",
      "4             46.50       2.625        NaN        NaN        NaN        NaN   \n",
      "...             ...         ...        ...        ...        ...        ...   \n",
      "421565        64.88       3.997    4556.61      20.64       1.50    1601.01   \n",
      "421566        64.89       3.985    5046.74        NaN      18.82    2253.43   \n",
      "421567        54.47       4.000    1956.28        NaN       7.89     599.32   \n",
      "421568        56.47       3.969    2004.02        NaN       3.18     437.73   \n",
      "421569        58.85       3.882    4018.91      58.08     100.00     211.94   \n",
      "\n",
      "        MarkDown5         CPI  Unemployment  IsHoliday_y  \n",
      "0             NaN  211.096358         8.106        False  \n",
      "1             NaN  211.242170         8.106         True  \n",
      "2             NaN  211.289143         8.106        False  \n",
      "3             NaN  211.319643         8.106        False  \n",
      "4             NaN  211.350143         8.106        False  \n",
      "...           ...         ...           ...          ...  \n",
      "421565    3288.25  192.013558         8.684        False  \n",
      "421566    2340.01  192.170412         8.667        False  \n",
      "421567    3990.54  192.327265         8.667        False  \n",
      "421568    1537.49  192.330854         8.667        False  \n",
      "421569     858.33  192.308899         8.667        False  \n",
      "\n",
      "[421570 rows x 17 columns]\n"
     ]
    }
   ],
   "source": [
    "print(d)"
   ]
  },
  {
   "cell_type": "code",
   "execution_count": 31,
   "metadata": {
    "scrolled": true
   },
   "outputs": [
    {
     "data": {
      "image/png": "[encoded data removed]",
      "text/plain": [
       "<Figure size 432x288 with 1 Axes>"
      ]
     },
     "metadata": {
      "needs_background": "light"
     },
     "output_type": "display_data"
    }
   ],
   "source": [
    "x = np.concatenate((d1[d[\"Weekly_Sales\"] < 0], d1[d[\"Weekly_Sales\"] > 0]))\n",
    "\n",
    "plt.hist(x, density=True)\n",
    "\n",
    "plt.xlim([-70496, 200000])\n",
    "plt.xlabel('Weekly Sales Values')\n",
    "plt.ylabel('Normalized Sales Values')\n",
    "plt.title('Normalized distribution of sales values')\n",
    "plt.show()"
   ]
  },
  {
   "cell_type": "markdown",
   "metadata": {},
   "source": [
    "<font color = 'blue'>As can be seen, there are some erroneous recording of sales. The sales can not be negative for a particular month, as illustrated in the graph. In the later section we clean the data to remove negative sales</font>"
   ]
  },
  {
   "cell_type": "markdown",
   "metadata": {},
   "source": [
    "## Data Cleaning"
   ]
  },
  {
   "cell_type": "code",
   "execution_count": 32,
   "metadata": {},
   "outputs": [
    {
     "data": {
      "text/plain": [
       "Index(['Store', 'Dept', 'Date', 'Weekly_Sales', 'IsHoliday_x', 'Type', 'Size',\n",
       "       'Temperature', 'Fuel_Price', 'MarkDown1', 'MarkDown2', 'MarkDown3',\n",
       "       'MarkDown4', 'MarkDown5', 'CPI', 'Unemployment', 'IsHoliday_y'],\n",
       "      dtype='object')"
      ]
     },
     "execution_count": 32,
     "metadata": {},
     "output_type": "execute_result"
    }
   ],
   "source": [
    "master_df.columns"
   ]
  },
  {
   "cell_type": "code",
   "execution_count": 44,
   "metadata": {},
   "outputs": [
    {
     "ename": "KeyError",
     "evalue": "\"['IsHoliday_x' 'IsHoliday_y'] not found in axis\"",
     "output_type": "error",
     "traceback": [
      "\u001b[1;31m---------------------------------------------------------------------------\u001b[0m",
      "\u001b[1;31mKeyError\u001b[0m                                  Traceback (most recent call last)",
      "\u001b[1;32m~\\AppData\\Local\\Temp/ipykernel_13148/3074588798.py\u001b[0m in \u001b[0;36m<module>\u001b[1;34m\u001b[0m\n\u001b[0;32m      9\u001b[0m \u001b[1;31m# master_df['isHoliday'] = master_df['IsHoliday_x']\u001b[0m\u001b[1;33m\u001b[0m\u001b[1;33m\u001b[0m\u001b[0m\n\u001b[0;32m     10\u001b[0m \u001b[1;33m\u001b[0m\u001b[0m\n\u001b[1;32m---> 11\u001b[1;33m \u001b[0mmaster_df\u001b[0m \u001b[1;33m=\u001b[0m \u001b[0mmaster_df\u001b[0m\u001b[1;33m.\u001b[0m\u001b[0mdrop\u001b[0m\u001b[1;33m(\u001b[0m\u001b[0mcolumns\u001b[0m\u001b[1;33m=\u001b[0m\u001b[1;33m[\u001b[0m\u001b[1;34m'IsHoliday_x'\u001b[0m\u001b[1;33m,\u001b[0m \u001b[1;34m'IsHoliday_y'\u001b[0m\u001b[1;33m]\u001b[0m\u001b[1;33m,\u001b[0m\u001b[0maxis\u001b[0m\u001b[1;33m=\u001b[0m\u001b[1;36m1\u001b[0m\u001b[1;33m)\u001b[0m\u001b[1;33m\u001b[0m\u001b[1;33m\u001b[0m\u001b[0m\n\u001b[0m",
      "\u001b[1;32m~\\AppData\\Local\\Programs\\Python\\Python310\\lib\\site-packages\\pandas\\util\\_decorators.py\u001b[0m in \u001b[0;36mwrapper\u001b[1;34m(*args, **kwargs)\u001b[0m\n\u001b[0;32m    309\u001b[0m                     \u001b[0mstacklevel\u001b[0m\u001b[1;33m=\u001b[0m\u001b[0mstacklevel\u001b[0m\u001b[1;33m,\u001b[0m\u001b[1;33m\u001b[0m\u001b[1;33m\u001b[0m\u001b[0m\n\u001b[0;32m    310\u001b[0m                 )\n\u001b[1;32m--> 311\u001b[1;33m             \u001b[1;32mreturn\u001b[0m \u001b[0mfunc\u001b[0m\u001b[1;33m(\u001b[0m\u001b[1;33m*\u001b[0m\u001b[0margs\u001b[0m\u001b[1;33m,\u001b[0m \u001b[1;33m**\u001b[0m\u001b[0mkwargs\u001b[0m\u001b[1;33m)\u001b[0m\u001b[1;33m\u001b[0m\u001b[1;33m\u001b[0m\u001b[0m\n\u001b[0m\u001b[0;32m    312\u001b[0m \u001b[1;33m\u001b[0m\u001b[0m\n\u001b[0;32m    313\u001b[0m         \u001b[1;32mreturn\u001b[0m \u001b[0mwrapper\u001b[0m\u001b[1;33m\u001b[0m\u001b[1;33m\u001b[0m\u001b[0m\n",
      "\u001b[1;32m~\\AppData\\Local\\Programs\\Python\\Python310\\lib\\site-packages\\pandas\\core\\frame.py\u001b[0m in \u001b[0;36mdrop\u001b[1;34m(self, labels, axis, index, columns, level, inplace, errors)\u001b[0m\n\u001b[0;32m   4904\u001b[0m                 \u001b[0mweight\u001b[0m  \u001b[1;36m1.0\u001b[0m     \u001b[1;36m0.8\u001b[0m\u001b[1;33m\u001b[0m\u001b[1;33m\u001b[0m\u001b[0m\n\u001b[0;32m   4905\u001b[0m         \"\"\"\n\u001b[1;32m-> 4906\u001b[1;33m         return super().drop(\n\u001b[0m\u001b[0;32m   4907\u001b[0m             \u001b[0mlabels\u001b[0m\u001b[1;33m=\u001b[0m\u001b[0mlabels\u001b[0m\u001b[1;33m,\u001b[0m\u001b[1;33m\u001b[0m\u001b[1;33m\u001b[0m\u001b[0m\n\u001b[0;32m   4908\u001b[0m             \u001b[0maxis\u001b[0m\u001b[1;33m=\u001b[0m\u001b[0maxis\u001b[0m\u001b[1;33m,\u001b[0m\u001b[1;33m\u001b[0m\u001b[1;33m\u001b[0m\u001b[0m\n",
      "\u001b[1;32m~\\AppData\\Local\\Programs\\Python\\Python310\\lib\\site-packages\\pandas\\core\\generic.py\u001b[0m in \u001b[0;36mdrop\u001b[1;34m(self, labels, axis, index, columns, level, inplace, errors)\u001b[0m\n\u001b[0;32m   4148\u001b[0m         \u001b[1;32mfor\u001b[0m \u001b[0maxis\u001b[0m\u001b[1;33m,\u001b[0m \u001b[0mlabels\u001b[0m \u001b[1;32min\u001b[0m \u001b[0maxes\u001b[0m\u001b[1;33m.\u001b[0m\u001b[0mitems\u001b[0m\u001b[1;33m(\u001b[0m\u001b[1;33m)\u001b[0m\u001b[1;33m:\u001b[0m\u001b[1;33m\u001b[0m\u001b[1;33m\u001b[0m\u001b[0m\n\u001b[0;32m   4149\u001b[0m             \u001b[1;32mif\u001b[0m \u001b[0mlabels\u001b[0m \u001b[1;32mis\u001b[0m \u001b[1;32mnot\u001b[0m \u001b[1;32mNone\u001b[0m\u001b[1;33m:\u001b[0m\u001b[1;33m\u001b[0m\u001b[1;33m\u001b[0m\u001b[0m\n\u001b[1;32m-> 4150\u001b[1;33m                 \u001b[0mobj\u001b[0m \u001b[1;33m=\u001b[0m \u001b[0mobj\u001b[0m\u001b[1;33m.\u001b[0m\u001b[0m_drop_axis\u001b[0m\u001b[1;33m(\u001b[0m\u001b[0mlabels\u001b[0m\u001b[1;33m,\u001b[0m \u001b[0maxis\u001b[0m\u001b[1;33m,\u001b[0m \u001b[0mlevel\u001b[0m\u001b[1;33m=\u001b[0m\u001b[0mlevel\u001b[0m\u001b[1;33m,\u001b[0m \u001b[0merrors\u001b[0m\u001b[1;33m=\u001b[0m\u001b[0merrors\u001b[0m\u001b[1;33m)\u001b[0m\u001b[1;33m\u001b[0m\u001b[1;33m\u001b[0m\u001b[0m\n\u001b[0m\u001b[0;32m   4151\u001b[0m \u001b[1;33m\u001b[0m\u001b[0m\n\u001b[0;32m   4152\u001b[0m         \u001b[1;32mif\u001b[0m \u001b[0minplace\u001b[0m\u001b[1;33m:\u001b[0m\u001b[1;33m\u001b[0m\u001b[1;33m\u001b[0m\u001b[0m\n",
      "\u001b[1;32m~\\AppData\\Local\\Programs\\Python\\Python310\\lib\\site-packages\\pandas\\core\\generic.py\u001b[0m in \u001b[0;36m_drop_axis\u001b[1;34m(self, labels, axis, level, errors)\u001b[0m\n\u001b[0;32m   4183\u001b[0m                 \u001b[0mnew_axis\u001b[0m \u001b[1;33m=\u001b[0m \u001b[0maxis\u001b[0m\u001b[1;33m.\u001b[0m\u001b[0mdrop\u001b[0m\u001b[1;33m(\u001b[0m\u001b[0mlabels\u001b[0m\u001b[1;33m,\u001b[0m \u001b[0mlevel\u001b[0m\u001b[1;33m=\u001b[0m\u001b[0mlevel\u001b[0m\u001b[1;33m,\u001b[0m \u001b[0merrors\u001b[0m\u001b[1;33m=\u001b[0m\u001b[0merrors\u001b[0m\u001b[1;33m)\u001b[0m\u001b[1;33m\u001b[0m\u001b[1;33m\u001b[0m\u001b[0m\n\u001b[0;32m   4184\u001b[0m             \u001b[1;32melse\u001b[0m\u001b[1;33m:\u001b[0m\u001b[1;33m\u001b[0m\u001b[1;33m\u001b[0m\u001b[0m\n\u001b[1;32m-> 4185\u001b[1;33m                 \u001b[0mnew_axis\u001b[0m \u001b[1;33m=\u001b[0m \u001b[0maxis\u001b[0m\u001b[1;33m.\u001b[0m\u001b[0mdrop\u001b[0m\u001b[1;33m(\u001b[0m\u001b[0mlabels\u001b[0m\u001b[1;33m,\u001b[0m \u001b[0merrors\u001b[0m\u001b[1;33m=\u001b[0m\u001b[0merrors\u001b[0m\u001b[1;33m)\u001b[0m\u001b[1;33m\u001b[0m\u001b[1;33m\u001b[0m\u001b[0m\n\u001b[0m\u001b[0;32m   4186\u001b[0m             \u001b[0mresult\u001b[0m \u001b[1;33m=\u001b[0m \u001b[0mself\u001b[0m\u001b[1;33m.\u001b[0m\u001b[0mreindex\u001b[0m\u001b[1;33m(\u001b[0m\u001b[1;33m**\u001b[0m\u001b[1;33m{\u001b[0m\u001b[0maxis_name\u001b[0m\u001b[1;33m:\u001b[0m \u001b[0mnew_axis\u001b[0m\u001b[1;33m}\u001b[0m\u001b[1;33m)\u001b[0m\u001b[1;33m\u001b[0m\u001b[1;33m\u001b[0m\u001b[0m\n\u001b[0;32m   4187\u001b[0m \u001b[1;33m\u001b[0m\u001b[0m\n",
      "\u001b[1;32m~\\AppData\\Local\\Programs\\Python\\Python310\\lib\\site-packages\\pandas\\core\\indexes\\base.py\u001b[0m in \u001b[0;36mdrop\u001b[1;34m(self, labels, errors)\u001b[0m\n\u001b[0;32m   6015\u001b[0m         \u001b[1;32mif\u001b[0m \u001b[0mmask\u001b[0m\u001b[1;33m.\u001b[0m\u001b[0many\u001b[0m\u001b[1;33m(\u001b[0m\u001b[1;33m)\u001b[0m\u001b[1;33m:\u001b[0m\u001b[1;33m\u001b[0m\u001b[1;33m\u001b[0m\u001b[0m\n\u001b[0;32m   6016\u001b[0m             \u001b[1;32mif\u001b[0m \u001b[0merrors\u001b[0m \u001b[1;33m!=\u001b[0m \u001b[1;34m\"ignore\"\u001b[0m\u001b[1;33m:\u001b[0m\u001b[1;33m\u001b[0m\u001b[1;33m\u001b[0m\u001b[0m\n\u001b[1;32m-> 6017\u001b[1;33m                 \u001b[1;32mraise\u001b[0m \u001b[0mKeyError\u001b[0m\u001b[1;33m(\u001b[0m\u001b[1;34mf\"{labels[mask]} not found in axis\"\u001b[0m\u001b[1;33m)\u001b[0m\u001b[1;33m\u001b[0m\u001b[1;33m\u001b[0m\u001b[0m\n\u001b[0m\u001b[0;32m   6018\u001b[0m             \u001b[0mindexer\u001b[0m \u001b[1;33m=\u001b[0m \u001b[0mindexer\u001b[0m\u001b[1;33m[\u001b[0m\u001b[1;33m~\u001b[0m\u001b[0mmask\u001b[0m\u001b[1;33m]\u001b[0m\u001b[1;33m\u001b[0m\u001b[1;33m\u001b[0m\u001b[0m\n\u001b[0;32m   6019\u001b[0m         \u001b[1;32mreturn\u001b[0m \u001b[0mself\u001b[0m\u001b[1;33m.\u001b[0m\u001b[0mdelete\u001b[0m\u001b[1;33m(\u001b[0m\u001b[0mindexer\u001b[0m\u001b[1;33m)\u001b[0m\u001b[1;33m\u001b[0m\u001b[1;33m\u001b[0m\u001b[0m\n",
      "\u001b[1;31mKeyError\u001b[0m: \"['IsHoliday_x' 'IsHoliday_y'] not found in axis\""
     ]
    }
   ],
   "source": [
    "# Filling empty markdown columns\n",
    "master_df['MarkDown1'] = master_df['MarkDown1'].fillna(0)\n",
    "master_df['MarkDown2'] = master_df['MarkDown2'].fillna(0)\n",
    "master_df['MarkDown3'] = master_df['MarkDown3'].fillna(0)\n",
    "master_df['MarkDown4'] = master_df['MarkDown4'].fillna(0)\n",
    "master_df['MarkDown5'] = master_df['MarkDown5'].fillna(0)\n",
    "\n",
    "# Cleaning holiday columns\n",
    "# master_df['isHoliday'] = master_df['IsHoliday_x']\n",
    "\n",
    "master_df = master_df.drop(columns=['IsHoliday_x', 'IsHoliday_y'],axis=1)"
   ]
  },
  {
   "cell_type": "code",
   "execution_count": 45,
   "metadata": {},
   "outputs": [
    {
     "name": "stderr",
     "output_type": "stream",
     "text": [
      "C:\\Users\\panka\\AppData\\Local\\Temp/ipykernel_13148/3476480186.py:3: FutureWarning: Series.dt.weekofyear and Series.dt.week have been deprecated.  Please use Series.dt.isocalendar().week instead.\n",
      "  master_df['Week_Number'] = master_df['Date'].dt.week\n"
     ]
    }
   ],
   "source": [
    "# Handling Date and time\n",
    "master_df['Date'] = pd.to_datetime(master_df['Date'], format='%Y-%m-%d')\n",
    "master_df['Week_Number'] = master_df['Date'].dt.week\n",
    "master_df['Quarter'] = master_df['Date'].dt.quarter\n",
    "master_df['Month'] = master_df['Date'].dt.month.apply(lambda x: calendar.month_abbr[x])\n",
    "master_df['Season'] = (master_df['Date'].apply(lambda dt: (dt.month%12 + 3)//3)).map(seasons_dict)\n",
    "master_df[\"Year\"] = master_df[\"Date\"].dt.year"
   ]
  },
  {
   "cell_type": "markdown",
   "metadata": {},
   "source": [
    "## Creating lagged variables based on time"
   ]
  },
  {
   "cell_type": "code",
   "execution_count": 47,
   "metadata": {},
   "outputs": [],
   "source": [
    "master_df=master_df.sort_values(by=['Store', 'Dept', 'Year', 'Week_Number'], ascending=True)    \n",
    "\n",
    "# Previous week sales\n",
    "shifted_sales = master_df.shift(1)\n",
    "master_df_new_var = master_df.join(shifted_sales[['Store', 'Dept', 'Week_Number', 'Weekly_Sales', 'Year']], rsuffix='_Lag')\n",
    "master_df_new_var.loc[(master_df_new_var.Dept != master_df_new_var.Dept_Lag) |  (master_df_new_var.Store != master_df_new_var.Store_Lag), 'Weekly_Sales_Lag'] = -2\n",
    "\n",
    "# Previous month sales\n",
    "#shifted_sales = master_df.shift(4)\n",
    "#master_df_new_var = master_df_new_var.join(shifted_sales[['Store', 'Dept', 'Week_Number', 'Weekly_Sales', 'Year']], rsuffix='_Lag2')\n",
    "#master_df_new_var['Monthly_Sales_Lag'] = master_df_new_var.Week_Number_Lag2\n",
    "#master_df_new_var.loc[((master_df_new_var.Week_Number - master_df_new_var.Week_Number_Lag2) != 4) , 'Monthly_Sales_Lag'] = 0\n",
    "#master_df_new_var[['Store', 'Dept', 'Week_Number', 'Weekly_Sales', 'Year', 'Weekly_Sales_Lag']]\n",
    "\n",
    "# Average yearly sales\n",
    "#my_df= master_df[['Store','Dept','Week_Number','Weekly_Sales']]\n",
    "#my_df2= my_df.groupby(['Store','Dept','Week_Number']).mean()\n",
    "#master_df.set_index(['Store','Dept','Week_Number'],inplace= True)\n",
    "#df=master_df.join(my_df2, rsuffix='_yearly').reset_index(inplace=True)\n",
    "#master_df_new_var['Yearly_Sales']=df['Weekly_Sales_yearly']"
   ]
  },
  {
   "cell_type": "markdown",
   "metadata": {},
   "source": [
    "<font color = 'green'>Lagged time varibles play a significant role in explaining current trends and seasonal pattern which repeat over a period of time. Furthermore lag variables capture the inherent store features which can get little tricky to zero out </font>"
   ]
  },
  {
   "cell_type": "markdown",
   "metadata": {},
   "source": [
    "## Creating dummy variables for categorical values"
   ]
  },
  {
   "cell_type": "code",
   "execution_count": 48,
   "metadata": {},
   "outputs": [],
   "source": [
    "#forming categorarical variables\n",
    "master_df_new_var = master_df_new_var.join(pd.get_dummies(master_df['Quarter'], prefix='Quarter'))\n",
    "master_df_new_var = master_df_new_var.join(pd.get_dummies(master_df['Season'], prefix='Season'))\n",
    "master_df_new_var = master_df_new_var.join(pd.get_dummies(master_df['Store'], prefix='Store'))\n",
    "master_df_new_var = master_df_new_var.join(pd.get_dummies(master_df['Dept'], prefix='Dept'))\n",
    "master_df_new_var = master_df_new_var.join(pd.get_dummies(master_df['Type'], prefix='Type'))\n",
    "master_df_new_var = master_df_new_var.join(pd.get_dummies(master_df['Week_Number'], prefix='Week_Number'))"
   ]
  },
  {
   "cell_type": "code",
   "execution_count": 49,
   "metadata": {},
   "outputs": [],
   "source": [
    "# Removing wrongly recorded data points\n",
    "master_df_new_var = master_df_new_var.dropna()\n",
    "#master_df_new_var = master_df_new_var.loc[master_df_new_var['Week_Number'] > 4]\n",
    "#master_df_new_var = master_df_new_var.loc[master_df_new_var['Monthly_Sales_Lag'] > 0]\n",
    "master_df_new_var = master_df_new_var.loc[master_df_new_var['Weekly_Sales_Lag'] > 0]\n",
    "master_df_new_var = master_df_new_var.loc[master_df_new_var['Weekly_Sales'] > 0] #keeping points which are only positive in value for the sales"
   ]
  },
  {
   "cell_type": "markdown",
   "metadata": {},
   "source": [
    "## Creating interaction variable"
   ]
  },
  {
   "cell_type": "code",
   "execution_count": 50,
   "metadata": {},
   "outputs": [],
   "source": [
    "master_df_new_var['MarkDown'] = master_df_new_var['MarkDown1'] + master_df_new_var['MarkDown2'] + master_df_new_var['MarkDown3'] + master_df_new_var['MarkDown4'] + master_df_new_var['MarkDown5']\n",
    "master_df_new_var['MarkDown*Weekly_Sales_Lag'] = master_df_new_var['MarkDown']*master_df_new_var['Weekly_Sales_Lag']"
   ]
  },
  {
   "cell_type": "markdown",
   "metadata": {},
   "source": [
    "<font color = 'green'>We created an interaction variable as promotional offers (markdown) and weekly sales go hand in hand. They together explain the future weekly sales in a very robust fashion</font>"
   ]
  },
  {
   "cell_type": "markdown",
   "metadata": {},
   "source": [
    "# Model Building"
   ]
  },
  {
   "cell_type": "markdown",
   "metadata": {},
   "source": [
    "## Dividing the dataset into test and train dataset"
   ]
  },
  {
   "cell_type": "markdown",
   "metadata": {},
   "source": [
    "<font color = 'green'>We will do an out of time validation. The model will be trained on first two years data and tested on the last six months data.</font>"
   ]
  },
  {
   "cell_type": "code",
   "execution_count": 51,
   "metadata": {},
   "outputs": [],
   "source": [
    "#segregating the data\n",
    "data_test = master_df_new_var[master_df_new_var.Year == 2012]\n",
    "data_train = master_df_new_var[master_df_new_var.Year != 2012]"
   ]
  },
  {
   "cell_type": "markdown",
   "metadata": {},
   "source": [
    "## Building full model linear regression"
   ]
  },
  {
   "cell_type": "code",
   "execution_count": 52,
   "metadata": {},
   "outputs": [],
   "source": [
    "features = list(master_df_new_var)\n",
    "for x in ('Quarter',\n",
    " 'Month',\n",
    " 'Season',\n",
    " 'Year',\n",
    " 'Store',\n",
    " 'Dept',\n",
    " 'Date',\n",
    " 'Type',\n",
    " 'Weekly_Sales',\n",
    " 'Weekly_Sales_Lag'):\n",
    "    features.remove(x)\n",
    "#features"
   ]
  },
  {
   "cell_type": "code",
   "execution_count": 53,
   "metadata": {},
   "outputs": [],
   "source": [
    "# Writing the formula\n",
    "equals_to_str = \"\"\n",
    "for i in features:\n",
    "    equals_to_str = equals_to_str + str(i) + \" + \"\n",
    "\n",
    "equals_to_str = str('Weekly_Sales ~ ') + equals_to_str\n",
    "equals_to_str = equals_to_str[:-3] \n",
    "equals_to_str_promotion = equals_to_str + \"Markdown1\""
   ]
  },
  {
   "cell_type": "code",
   "execution_count": 54,
   "metadata": {
    "scrolled": true
   },
   "outputs": [
    {
     "name": "stdout",
     "output_type": "stream",
     "text": [
      "Model 1 without Promotion \n",
      "                             OLS Regression Results                            \n",
      "==============================================================================\n",
      "Dep. Variable:           Weekly_Sales   R-squared:                       0.895\n",
      "Model:                            OLS   Adj. R-squared:                  0.895\n",
      "Method:                 Least Squares   F-statistic:                 1.301e+04\n",
      "Date:                Wed, 04 May 2022   Prob (F-statistic):               0.00\n",
      "Time:                        22:49:49   Log-Likelihood:            -2.9899e+06\n",
      "No. Observations:              289299   AIC:                         5.980e+06\n",
      "Df Residuals:                  289109   BIC:                         5.982e+06\n",
      "Df Model:                         189                                         \n",
      "Covariance Type:            nonrobust                                         \n",
      "=============================================================================================\n",
      "                                coef    std err          t      P>|t|      [0.025      0.975]\n",
      "---------------------------------------------------------------------------------------------\n",
      "Intercept                 -1.854e+05   1.04e+05     -1.777      0.076    -3.9e+05    1.91e+04\n",
      "isHoliday[T.True]          3133.7581   2310.640      1.356      0.175   -1395.033    7662.549\n",
      "Size                         -0.2797      0.170     -1.647      0.100      -0.613       0.053\n",
      "Temperature                   3.5665      3.143      1.135      0.257      -2.594       9.727\n",
      "Fuel_Price                 -427.6649    126.458     -3.382      0.001    -675.519    -179.810\n",
      "MarkDown1                     0.0516      0.015      3.350      0.001       0.021       0.082\n",
      "MarkDown2                     0.0413      0.007      6.232      0.000       0.028       0.054\n",
      "MarkDown3                     0.0570      0.006      9.268      0.000       0.045       0.069\n",
      "MarkDown4                    -0.0564      0.033     -1.733      0.083      -0.120       0.007\n",
      "MarkDown5                    -0.0109      0.011     -0.974      0.330      -0.033       0.011\n",
      "CPI                          10.3678     19.796      0.524      0.600     -28.432      49.167\n",
      "Unemployment               -221.7133     53.176     -4.169      0.000    -325.936    -117.490\n",
      "Week_Number               -1868.0877   1043.910     -1.790      0.074   -3914.122     177.946\n",
      "Store_Lag                  -970.6087    555.521     -1.747      0.081   -2059.414     118.197\n",
      "Dept_Lag                   -113.8399     69.556     -1.637      0.102    -250.167      22.487\n",
      "Week_Number_Lag              11.4689     13.855      0.828      0.408     -15.686      38.624\n",
      "Year_Lag                    253.2169    143.743      1.762      0.078     -28.516     534.950\n",
      "Quarter_1                  -8.11e+04   4.57e+04     -1.775      0.076   -1.71e+05    8428.117\n",
      "Quarter_2                 -5.856e+04    3.3e+04     -1.776      0.076   -1.23e+05    6083.449\n",
      "Quarter_3                  -2.31e+04   1.28e+04     -1.798      0.072   -4.83e+04    2074.249\n",
      "Quarter_4                 -2.265e+04   1.28e+04     -1.763      0.078   -4.78e+04    2536.632\n",
      "Season_Spring             -9.448e+04   5.33e+04     -1.773      0.076   -1.99e+05    9979.276\n",
      "Season_Winter             -9.092e+04   5.11e+04     -1.781      0.075   -1.91e+05    9140.456\n",
      "Store_1                   -3.027e+04   1.69e+04     -1.788      0.074   -6.34e+04    2907.806\n",
      "Store_2                   -1.413e+04   7726.414     -1.828      0.068   -2.93e+04    1017.698\n",
      "Store_3                   -3.877e+04   2.12e+04     -1.833      0.067   -8.02e+04    2689.288\n",
      "Store_4                   -1.025e+04   7095.090     -1.445      0.148   -2.42e+04    3652.550\n",
      "Store_5                   -3.788e+04   2.05e+04     -1.849      0.064    -7.8e+04    2270.264\n",
      "Store_6                   -1.122e+04   5439.042     -2.063      0.039   -2.19e+04    -562.759\n",
      "Store_7                   -2.446e+04   1.36e+04     -1.798      0.072   -5.11e+04    2207.990\n",
      "Store_8                   -2.411e+04   1.23e+04     -1.955      0.051   -4.83e+04      62.534\n",
      "Store_9                   -8101.5876   2861.983     -2.831      0.005   -1.37e+04   -2492.180\n",
      "Store_10                  -2335.9468   3302.508     -0.707      0.479   -8808.771    4136.878\n",
      "Store_11                  -5384.3420   1876.489     -2.869      0.004   -9062.209   -1706.475\n",
      "Store_12                  -5234.5326   4693.366     -1.115      0.265   -1.44e+04    3964.335\n",
      "Store_13                   2401.2164    800.159      3.001      0.003     832.926    3969.507\n",
      "Store_14                  -1918.9889   1651.106     -1.162      0.245   -5155.111    1317.133\n",
      "Store_15                  -1259.8497    988.293     -1.275      0.202   -3196.876     677.177\n",
      "Store_16                  -2.009e+04   1.09e+04     -1.850      0.064   -4.14e+04    1200.124\n",
      "Store_17                  -7608.9867   5028.147     -1.513      0.130   -1.75e+04    2246.041\n",
      "Store_18                   1979.3567    566.121      3.496      0.000     869.776    3088.937\n",
      "Store_19                   2799.0131   1198.482      2.335      0.020     450.021    5148.005\n",
      "Store_20                   4287.6247   2532.037      1.693      0.090    -675.097    9250.347\n",
      "Store_21                   8473.0443   6298.357      1.345      0.179   -3871.560    2.08e+04\n",
      "Store_22                   5215.3800   2408.119      2.166      0.030     495.535    9935.226\n",
      "Store_23                   4878.2658   2144.620      2.275      0.023     674.870    9081.662\n",
      "Store_24                   7499.6034   3839.825      1.953      0.051     -26.347     1.5e+04\n",
      "Store_25                   8922.7860   6409.369      1.392      0.164   -3639.400    2.15e+04\n",
      "Store_26                  -5776.1235   3857.383     -1.497      0.134   -1.33e+04    1784.239\n",
      "Store_27                   1.132e+04   5602.423      2.021      0.043     340.978    2.23e+04\n",
      "Store_28                   1.322e+04   6294.294      2.100      0.036     879.235    2.56e+04\n",
      "Store_29                   4127.4011   1822.781      2.264      0.024     554.801    7700.001\n",
      "Store_30                  -1.965e+04   1.01e+04     -1.950      0.051   -3.94e+04      96.640\n",
      "Store_31                   1.325e+04   8671.906      1.528      0.126   -3745.176    3.02e+04\n",
      "Store_32                     1.4e+04   8798.679      1.591      0.112   -3246.238    3.12e+04\n",
      "Store_33                  -3.235e+04   1.92e+04     -1.687      0.092   -6.99e+04    5243.928\n",
      "Store_34                   3807.4349   1550.570      2.456      0.014     768.362    6846.508\n",
      "Store_35                   1.327e+04   6892.530      1.925      0.054    -240.446    2.68e+04\n",
      "Store_36                   -3.01e+04   1.64e+04     -1.831      0.067   -6.23e+04    2121.053\n",
      "Store_37                  -1.342e+04   6743.307     -1.990      0.047   -2.66e+04    -203.747\n",
      "Store_38                  -1.067e+04   7347.561     -1.453      0.146   -2.51e+04    3726.342\n",
      "Store_39                   1.572e+04   9763.681      1.610      0.107   -3413.202    3.49e+04\n",
      "Store_40                   7795.1870   4480.257      1.740      0.082    -985.992    1.66e+04\n",
      "Store_41                   2.071e+04   1.27e+04      1.632      0.103   -4167.078    4.56e+04\n",
      "Store_42                  -7311.7851   5037.362     -1.452      0.147   -1.72e+04    2561.305\n",
      "Store_43                  -6406.2054   3366.446     -1.903      0.057    -1.3e+04     191.935\n",
      "Store_44                  -6567.3039   3891.124     -1.688      0.091   -1.42e+04    1059.191\n",
      "Store_45                   2.621e+04   1.55e+04      1.690      0.091   -4181.657    5.66e+04\n",
      "Dept_1                    -6302.9442   4426.580     -1.424      0.154    -1.5e+04    2373.029\n",
      "Dept_2                    -2623.6559   4357.464     -0.602      0.547   -1.12e+04    5916.852\n",
      "Dept_3                    -7401.9426   4287.418     -1.726      0.084   -1.58e+04    1001.277\n",
      "Dept_4                    -5090.7640   4218.107     -1.207      0.227   -1.34e+04    3176.608\n",
      "Dept_5                    -5197.2662   4148.594     -1.253      0.210   -1.33e+04    2933.862\n",
      "Dept_6                    -8062.7689   4078.831     -1.977      0.048   -1.61e+04     -68.374\n",
      "Dept_7                    -4212.8240   4009.648     -1.051      0.293   -1.21e+04    3645.974\n",
      "Dept_8                    -4017.3665   3940.130     -1.020      0.308   -1.17e+04    3705.178\n",
      "Dept_9                    -5372.3548   3870.472     -1.388      0.165    -1.3e+04    2213.662\n",
      "Dept_10                   -5538.6771   3800.928     -1.457      0.145    -1.3e+04    1911.036\n",
      "Dept_11                   -5981.3850   3731.380     -1.603      0.109   -1.33e+04    1332.015\n",
      "Dept_12                   -7508.0847   3661.791     -2.050      0.040   -1.47e+04    -331.076\n",
      "Dept_13                   -3409.3333   3592.605     -0.949      0.343   -1.05e+04    3632.073\n",
      "Dept_14                   -5413.9728   3522.894     -1.537      0.124   -1.23e+04    1490.801\n",
      "Dept_16                   -5631.4759   3383.836     -1.664      0.096   -1.23e+04    1000.748\n",
      "Dept_17                   -5931.0398   3314.328     -1.790      0.074   -1.24e+04     564.951\n",
      "Dept_18                   -5722.5764   3244.511     -1.764      0.078   -1.21e+04     636.576\n",
      "Dept_19                   -7503.9121   3176.030     -2.363      0.018   -1.37e+04   -1278.982\n",
      "Dept_20                   -6492.4653   3106.037     -2.090      0.037   -1.26e+04    -404.720\n",
      "Dept_21                   -6298.8856   3036.320     -2.075      0.038   -1.22e+04    -347.783\n",
      "Dept_22                   -5555.6733   2967.343     -1.872      0.061   -1.14e+04     260.237\n",
      "Dept_23                   -3166.6506   2897.692     -1.093      0.274   -8846.047    2512.746\n",
      "Dept_24                   -6055.7486   2828.122     -2.141      0.032   -1.16e+04    -512.709\n",
      "Dept_25                   -5247.3903   2758.494     -1.902      0.057   -1.07e+04     159.180\n",
      "Dept_26                   -5509.2406   2689.037     -2.049      0.040   -1.08e+04    -238.803\n",
      "Dept_27                   -6431.2894   2619.824     -2.455      0.014   -1.16e+04   -1296.506\n",
      "Dept_28                   -6289.3312   2550.097     -2.466      0.014   -1.13e+04   -1291.212\n",
      "Dept_29                   -5621.8309   2481.037     -2.266      0.023   -1.05e+04    -759.068\n",
      "Dept_30                   -5813.5781   2411.636     -2.411      0.016   -1.05e+04   -1086.838\n",
      "Dept_31                   -5702.7859   2341.753     -2.435      0.015   -1.03e+04   -1113.015\n",
      "Dept_32                   -4819.2373   2272.512     -2.121      0.034   -9273.297    -365.178\n",
      "Dept_33                   -5016.2322   2203.295     -2.277      0.023   -9334.629    -697.835\n",
      "Dept_34                   -3610.5864   2134.031     -1.692      0.091   -7793.227     572.054\n",
      "Dept_35                   -5409.4259   2064.627     -2.620      0.009   -9456.037   -1362.814\n",
      "Dept_36                   -5416.7313   1995.275     -2.715      0.007   -9327.415   -1506.047\n",
      "Dept_37                   -5806.2870   1929.968     -3.008      0.003   -9588.971   -2023.603\n",
      "Dept_38                    3891.0206   1857.228      2.095      0.036     250.905    7531.136\n",
      "Dept_39                   -6490.1193   4599.827     -1.411      0.158   -1.55e+04    2525.415\n",
      "Dept_40                    1764.6471   1718.011      1.027      0.304   -1602.606    5131.901\n",
      "Dept_41                   -4802.0582   1648.501     -2.913      0.004   -8033.074   -1571.042\n",
      "Dept_42                   -3932.2569   1578.715     -2.491      0.013   -7026.495    -838.019\n",
      "Dept_43                   -3842.9030   5411.232     -0.710      0.478   -1.44e+04    6762.960\n",
      "Dept_44                   -4048.9746   1440.610     -2.811      0.005   -6872.531   -1225.418\n",
      "Dept_45                   -4836.5672   1376.461     -3.514      0.000   -7534.393   -2138.741\n",
      "Dept_46                   -1119.0668   1301.905     -0.860      0.390   -3670.765    1432.631\n",
      "Dept_47                   -4589.1633   1346.409     -3.408      0.001   -7228.088   -1950.239\n",
      "Dept_48                   -4957.6629   1178.947     -4.205      0.000   -7268.367   -2646.959\n",
      "Dept_49                   -3272.3302   1097.913     -2.981      0.003   -5424.208   -1120.452\n",
      "Dept_50                   -4548.7373   1044.057     -4.357      0.000   -6595.059   -2502.416\n",
      "Dept_51                   -3848.1956    968.471     -3.973      0.000   -5746.371   -1950.020\n",
      "Dept_52                   -3305.7065    888.064     -3.722      0.000   -5046.286   -1565.127\n",
      "Dept_54                   -3748.5742    753.461     -4.975      0.000   -5225.336   -2271.812\n",
      "Dept_55                   -1443.7526    683.804     -2.111      0.035   -2783.990    -103.515\n",
      "Dept_56                   -2756.1596    615.384     -4.479      0.000   -3962.296   -1550.023\n",
      "Dept_58                   -2935.5423    485.495     -6.046      0.000   -3887.100   -1983.985\n",
      "Dept_59                   -2646.1588    414.534     -6.383      0.000   -3458.634   -1833.684\n",
      "Dept_60                   -2595.3646    352.473     -7.363      0.000   -3286.201   -1904.528\n",
      "Dept_65                    4735.8618    746.947      6.340      0.000    3271.867    6199.857\n",
      "Dept_67                    -693.8139    216.373     -3.207      0.001   -1117.899    -269.729\n",
      "Dept_71                    -895.7995    468.490     -1.912      0.056   -1814.028      22.429\n",
      "Dept_72                    7000.1639    533.992     13.109      0.000    5953.554    8046.774\n",
      "Dept_74                    1071.6514    667.554      1.605      0.108    -236.735    2380.038\n",
      "Dept_77                   -2485.0818   1361.529     -1.825      0.068   -5153.641     183.477\n",
      "Dept_78                   -1168.8387   1204.527     -0.970      0.332   -3529.677    1192.000\n",
      "Dept_79                    2783.7962   1010.246      2.756      0.006     803.742    4763.850\n",
      "Dept_80                    1369.9098   1080.084      1.268      0.205    -747.026    3486.845\n",
      "Dept_81                    2032.4619   1148.258      1.770      0.077    -218.092    4283.016\n",
      "Dept_82                    2437.4331   1217.308      2.002      0.045      51.544    4823.323\n",
      "Dept_83                     348.6548   1287.117      0.271      0.786   -2174.058    2871.368\n",
      "Dept_85                     463.6904   1425.421      0.325      0.745   -2330.094    3257.475\n",
      "Dept_87                    2386.5940   1563.406      1.527      0.127    -677.639    5450.827\n",
      "Dept_90                    7568.9884   1771.170      4.273      0.000    4097.545     1.1e+04\n",
      "Dept_91                    5844.6326   1840.504      3.176      0.001    2237.296    9451.969\n",
      "Dept_92                    1.219e+04   1910.198      6.380      0.000    8443.454    1.59e+04\n",
      "Dept_93                    5039.1302   1979.542      2.546      0.011    1159.282    8918.978\n",
      "Dept_94                    6349.9795   2049.412      3.098      0.002    2333.190    1.04e+04\n",
      "Dept_95                    1.171e+04   2118.241      5.529      0.000    7560.941    1.59e+04\n",
      "Dept_96                    3885.4182   2188.423      1.775      0.076    -403.830    8174.667\n",
      "Dept_97                    3656.8800   2257.094      1.620      0.105    -766.961    8080.721\n",
      "Dept_98                    2630.8432   2327.069      1.131      0.258   -1930.147    7191.834\n",
      "Dept_99                    -410.7425   2437.347     -0.169      0.866   -5187.875    4366.390\n",
      "Type_A                    -4.869e+04   2.71e+04     -1.798      0.072   -1.02e+05    4376.023\n",
      "Type_B                    -7.268e+04    4.1e+04     -1.771      0.077   -1.53e+05    7753.102\n",
      "Type_C                    -6.403e+04   3.62e+04     -1.767      0.077   -1.35e+05    6991.538\n",
      "Week_Number_1             -1.651e+04   9375.903     -1.760      0.078   -3.49e+04    1870.782\n",
      "Week_Number_2              -1.57e+04   8347.926     -1.881      0.060   -3.21e+04     661.712\n",
      "Week_Number_3             -1.325e+04   7301.346     -1.815      0.070   -2.76e+04    1057.585\n",
      "Week_Number_4             -1.174e+04   6256.278     -1.877      0.061    -2.4e+04     518.301\n",
      "Week_Number_5             -7310.9435   5212.563     -1.403      0.161   -1.75e+04    2905.535\n",
      "Week_Number_6              -1.04e+04   6440.504     -1.614      0.106    -2.3e+04    2225.888\n",
      "Week_Number_7             -5188.9664   3088.207     -1.680      0.093   -1.12e+04     863.833\n",
      "Week_Number_8             -5018.5637   2043.858     -2.455      0.014   -9024.469   -1012.659\n",
      "Week_Number_9              -833.5689    991.678     -0.841      0.401   -2777.230    1110.092\n",
      "Week_Number_10             -351.0705    131.043     -2.679      0.007    -607.911     -94.230\n",
      "Week_Number_11             1864.7099   1120.155      1.665      0.096    -330.763    4060.183\n",
      "Week_Number_12             3337.8660   2159.808      1.545      0.122    -895.298    7571.030\n",
      "Week_Number_13            -1.579e+04   9496.385     -1.663      0.096   -3.44e+04    2822.119\n",
      "Week_Number_14            -1.504e+04   8447.639     -1.780      0.075   -3.16e+04    1518.013\n",
      "Week_Number_15            -1.359e+04   7398.443     -1.837      0.066   -2.81e+04     909.425\n",
      "Week_Number_16            -1.072e+04   6353.234     -1.687      0.092   -2.32e+04    1735.795\n",
      "Week_Number_17            -1.039e+04   5308.323     -1.957      0.050   -2.08e+04      14.712\n",
      "Week_Number_18            -6217.1858   4259.900     -1.459      0.144   -1.46e+04    2132.100\n",
      "Week_Number_19            -6335.2402   3216.555     -1.970      0.049   -1.26e+04     -30.882\n",
      "Week_Number_20            -4078.5090   2176.645     -1.874      0.061   -8344.673     187.655\n",
      "Week_Number_21            -1380.0574   1144.318     -1.206      0.228   -3622.890     862.775\n",
      "Week_Number_22             4453.7794   2145.165      2.076      0.038     249.315    8658.243\n",
      "Week_Number_23             4830.2240   3183.596      1.517      0.129   -1409.535    1.11e+04\n",
      "Week_Number_24             7119.4265   4222.461      1.686      0.092   -1156.479    1.54e+04\n",
      "Week_Number_25             8579.9539   5263.724      1.630      0.103   -1736.798    1.89e+04\n",
      "Week_Number_26            -2.399e+04   1.38e+04     -1.734      0.083   -5.11e+04    3121.942\n",
      "Week_Number_27            -2.286e+04   1.28e+04     -1.787      0.074   -4.79e+04    2210.824\n",
      "Week_Number_28            -2.158e+04   1.17e+04     -1.837      0.066   -4.46e+04    1448.105\n",
      "Week_Number_29            -1.941e+04   1.07e+04     -1.813      0.070   -4.04e+04    1570.911\n",
      "Week_Number_30            -1.762e+04   9660.657     -1.824      0.068   -3.66e+04    1314.301\n",
      "Week_Number_31            -1.412e+04   8616.959     -1.639      0.101    -3.1e+04    2764.559\n",
      "Week_Number_32            -1.404e+04   7574.606     -1.854      0.064   -2.89e+04     804.783\n",
      "Week_Number_33            -1.146e+04   6536.820     -1.753      0.080   -2.43e+04    1354.584\n",
      "Week_Number_34            -9912.1770   5497.656     -1.803      0.071   -2.07e+04     863.075\n",
      "Week_Number_35            -8092.5349   4456.302     -1.816      0.069   -1.68e+04     641.693\n",
      "Week_Number_36            -9277.7720   5723.195     -1.621      0.105   -2.05e+04    1939.532\n",
      "Week_Number_37            -5201.2947   2372.091     -2.193      0.028   -9850.527    -552.062\n",
      "Week_Number_38            -3024.5205   1334.158     -2.267      0.023   -5639.432    -409.609\n",
      "Week_Number_39             -939.2792    301.924     -3.111      0.002   -1531.041    -347.517\n",
      "Week_Number_40             1971.6880    772.006      2.554      0.011     458.578    3484.798\n",
      "Week_Number_41             1861.7040   1810.184      1.028      0.304   -1686.206    5409.614\n",
      "Week_Number_42             4675.7444   2854.517      1.638      0.101    -919.030    1.03e+04\n",
      "Week_Number_43             6442.2757   3896.243      1.653      0.098   -1194.251    1.41e+04\n",
      "Week_Number_44             9089.2369   4936.623      1.841      0.066    -586.407    1.88e+04\n",
      "Week_Number_45             1.012e+04   5985.388      1.691      0.091   -1612.167    2.19e+04\n",
      "Week_Number_46             1.154e+04   7027.807      1.642      0.101   -2235.113    2.53e+04\n",
      "Week_Number_47             1.637e+04   5758.339      2.843      0.004    5086.255    2.77e+04\n",
      "Week_Number_48             8122.5157   6863.023      1.184      0.237   -5328.819    2.16e+04\n",
      "Week_Number_49             1.636e+04   7903.097      2.070      0.038     867.080    3.18e+04\n",
      "Week_Number_50             1.821e+04   8943.534      2.036      0.042     677.823    3.57e+04\n",
      "Week_Number_51             2.458e+04   9983.950      2.462      0.014    5011.764    4.41e+04\n",
      "Week_Number_52             6455.3028   8726.133      0.740      0.459   -1.06e+04    2.36e+04\n",
      "MarkDown                      0.0447      0.006      7.503      0.000       0.033       0.056\n",
      "Weekly_Sales_Lag              0.8555      0.001    806.915      0.000       0.853       0.858\n",
      "MarkDown:Weekly_Sales_Lag -3.052e-06   3.69e-08    -82.669      0.000   -3.12e-06   -2.98e-06\n",
      "==============================================================================\n",
      "Omnibus:                   448686.311   Durbin-Watson:                   2.539\n",
      "Prob(Omnibus):                  0.000   Jarque-Bera (JB):      10881683895.716\n",
      "Skew:                           8.490   Prob(JB):                         0.00\n",
      "Kurtosis:                     952.972   Cond. No.                     1.50e+22\n",
      "==============================================================================\n",
      "\n",
      "Notes:\n",
      "[1] Standard Errors assume that the covariance matrix of the errors is correctly specified.\n",
      "[2] The smallest eigenvalue is 3.17e-22. This might indicate that there are\n",
      "strong multicollinearity problems or that the design matrix is singular.\n"
     ]
    }
   ],
   "source": [
    "result_fullmodel = sm.ols(formula=equals_to_str, data = data_train).fit()\n",
    "print(\"Model 1 without Promotion \\n\",result_fullmodel.summary())"
   ]
  },
  {
   "cell_type": "markdown",
   "metadata": {},
   "source": [
    "## Exploratory Analysis and descriptive statistics"
   ]
  },
  {
   "cell_type": "markdown",
   "metadata": {},
   "source": [
    "<font color = 'green'>In this step we are trying to analyze which particular departments contribute to higher sales and thus would play a pivotal role in predicting the sales in future weeks</font>"
   ]
  },
  {
   "cell_type": "code",
   "execution_count": 55,
   "metadata": {},
   "outputs": [
    {
     "data": {
      "image/png": "[encoded data removed]",
      "text/plain": [
       "<Figure size 432x288 with 1 Axes>"
      ]
     },
     "metadata": {
      "needs_background": "light"
     },
     "output_type": "display_data"
    }
   ],
   "source": [
    "unique_dept_values = master_df_new_var.Dept.unique() #getting unique values of store by department type\n",
    "unique_data_string = []    #creating null list\n",
    "mark = []\n",
    "\n",
    "#creating unique list containing names of department for creating labels for the graph\n",
    "for counter in range(0, len(unique_dept_values)):\n",
    "    if unique_dept_values[counter] == 38 or unique_dept_values[counter] == 92 or unique_dept_values[counter] == 95:\n",
    "        unique_data_string.append(\"Dept-\" + str(unique_dept_values[counter]))\n",
    "        mark.append(\"+\")\n",
    "    else:\n",
    "        unique_data_string.append(\"\")\n",
    "        mark.append(\"o\")\n",
    "\n",
    "\n",
    "mean_sales = []   #creating list of mean sales\n",
    "for intcounter in unique_dept_values:\n",
    "    mean_sales.append(data_train[data_train[\"Dept_\" + str(intcounter)]==1][\"Weekly_Sales\"].mean()) #estimating mean sales for store by department type\n",
    "\n",
    "#creating formula for regression\n",
    "equals_to_str_dept = \"Weekly_Sales ~ Weekly_Sales_Lag + isHoliday + Temperature + Type_A + Type_B + Type_C+ Week_Number_50 + Week_Number_51 + \" \n",
    "for intcounter in range(len(unique_dept_values)):\n",
    "    if intcounter != len(unique_dept_values)-1:\n",
    "        equals_to_str_dept = equals_to_str_dept + \"Dept_\" + str(unique_dept_values[intcounter]) + \" + \"\n",
    "    else:\n",
    "        equals_to_str_dept = equals_to_str_dept + \"Dept_\" + str(unique_dept_values[intcounter])\n",
    "\n",
    "#running regression with relevant variables and all the department type to calculate which department type impacts the weekly sales the most\n",
    "result_with_dpt = sm.ols(formula=equals_to_str_dept, data = data_train).fit()\n",
    "result_list = result_with_dpt.tvalues #calculating t value to zero in on important parameters\n",
    "result_tstat = []\n",
    " \n",
    "for intcounter in range(9,90):\n",
    "    result_tstat.append(result_list[intcounter]) #getting t stat value for each department and store type\n",
    " \n",
    "fig, ax = plt.subplots()\n",
    "ax.scatter(result_tstat, mean_sales) #making a scatter plot to highlight high performing departments\n",
    "plt.xlabel('T- statistics')\n",
    "plt.ylabel('Mean Weekly Sales')\n",
    "plt.title('Mean weekly sales by department type')\n",
    "\n",
    "for i, txt in enumerate(unique_data_string):\n",
    "    ax.annotate(txt, (result_tstat[i],mean_sales[i])) #identifying the high performing graph and labelling them\n"
   ]
  },
  {
   "cell_type": "markdown",
   "metadata": {},
   "source": [
    "<font color = 'blue'>The graph here illustrates  Department 38, 95 and 92 performing extra-ordinarily in terms of mean weekly sales. T-statistics are the values obtained by keeping all the departments as an independent variable in the full model and then observing the significance of these varibles in getting to the response variable (future weekly sale)</font>"
   ]
  },
  {
   "cell_type": "markdown",
   "metadata": {},
   "source": [
    "<font color = 'green'>We have found out the next set of important variables. They include size, markdown and yearly lag.</font>"
   ]
  },
  {
   "cell_type": "code",
   "execution_count": 56,
   "metadata": {},
   "outputs": [
    {
     "data": {
      "image/png": "[encoded data removed]",
      "text/plain": [
       "<Figure size 432x288 with 1 Axes>"
      ]
     },
     "metadata": {
      "needs_background": "light"
     },
     "output_type": "display_data"
    }
   ],
   "source": [
    "ax= sns.barplot(x=\"Store\", y=\"Weekly_Sales\",  data=master_df_new_var)\n",
    "ax.set_xticklabels(ax.get_xticklabels(), fontsize=7)\n",
    "plt.tight_layout()\n",
    "plt.show()"
   ]
  },
  {
   "cell_type": "markdown",
   "metadata": {},
   "source": [
    "<font color = 'green'>The above graph shows the relative variation in average weekly sales for different stores in Walmart</font>"
   ]
  },
  {
   "cell_type": "code",
   "execution_count": 57,
   "metadata": {},
   "outputs": [
    {
     "data": {
      "text/plain": [
       "<AxesSubplot:xlabel='Year', ylabel='Weekly_Sales'>"
      ]
     },
     "execution_count": 57,
     "metadata": {},
     "output_type": "execute_result"
    },
    {
     "data": {
      "image/png": "[encoded data removed]",
      "text/plain": [
       "<Figure size 432x288 with 1 Axes>"
      ]
     },
     "metadata": {
      "needs_background": "light"
     },
     "output_type": "display_data"
    }
   ],
   "source": [
    "sns.barplot(x=\"Year\", y=\"Weekly_Sales\", hue=\"Type\", data=master_df)"
   ]
  },
  {
   "cell_type": "markdown",
   "metadata": {},
   "source": [
    "<font color = 'green'>In the above chart we can see the variation in the average sales of type A, type B, and type C stores. Type A store have the highest average sales.</font>"
   ]
  },
  {
   "cell_type": "code",
   "execution_count": 58,
   "metadata": {},
   "outputs": [
    {
     "data": {
      "image/png": "[encoded data removed]",
      "text/plain": [
       "<Figure size 432x288 with 1 Axes>"
      ]
     },
     "metadata": {
      "needs_background": "light"
     },
     "output_type": "display_data"
    }
   ],
   "source": [
    "df_corr = master_df.corr()\n",
    "ax=df_corr[['Weekly_Sales']].plot(kind='bar')\n",
    "plt.xlabel('Attribute')\n",
    "plt.ylabel('Correlation')\n",
    "plt.title('Correlation of Weekly sales with other variables')\n",
    "plt.tight_layout()\n",
    "plt.show()"
   ]
  },
  {
   "cell_type": "markdown",
   "metadata": {},
   "source": [
    "<font color = 'green'>From the above correlation matrix we can see that many factors in the original dataset had week correlation with weekly sales. Therefore, to better explain the weekly sales we have identified new variables like weekly lag and yearly lag which provides a robust time series trend analysis for the future sales.</font>"
   ]
  },
  {
   "cell_type": "code",
   "execution_count": 59,
   "metadata": {},
   "outputs": [
    {
     "data": {
      "image/png": "[encoded data removed]",
      "text/plain": [
       "<Figure size 1440x504 with 2 Axes>"
      ]
     },
     "metadata": {
      "needs_background": "light"
     },
     "output_type": "display_data"
    }
   ],
   "source": [
    "heat_df= master_df[['Store','Dept','Weekly_Sales']]\n",
    "heat_map=heat_df.groupby(['Store','Dept']).mean()\n",
    "heat_map.reset_index(inplace=True)\n",
    "heat_map=heat_map.pivot('Store','Dept','Weekly_Sales')\n",
    "fig, ax = plt.subplots(figsize=(20,7))\n",
    "sns.heatmap(heat_map, cmap=\"YlGnBu\", ax=ax)\n",
    "plt.xlabel('Department')\n",
    "plt.ylabel('Store')\n",
    "plt.title('A heatmap indicating average sales of various departments')\n",
    "plt.tight_layout()\n",
    "plt.show()"
   ]
  },
  {
   "cell_type": "markdown",
   "metadata": {},
   "source": [
    "<font color ='green'>The above heatmap helped us in augmenting our decision of including critical departments like 92, 95, and 38 in our regression equation</font>"
   ]
  },
  {
   "cell_type": "code",
   "execution_count": 60,
   "metadata": {},
   "outputs": [
    {
     "data": {
      "image/png": "[encoded data removed]",
      "text/plain": [
       "<Figure size 432x288 with 1 Axes>"
      ]
     },
     "metadata": {
      "needs_background": "light"
     },
     "output_type": "display_data"
    }
   ],
   "source": [
    "#function to draw pair plot\n",
    "def drawpairplot(total_clusters, data, blnDraw):\n",
    "    kmeans=KMeans(n_clusters=total_clusters).fit(data)\n",
    "    data['Cluster']=kmeans.labels_\n",
    "    if blnDraw:\n",
    "        sns.pairplot(data,hue='Cluster')\n",
    "\n",
    "df = copy.deepcopy(master_df)   #creating a copy of the data frame to not change the master data frame\n",
    "df[\"Type\"] = df['Type'].map({'A': int(0), 'B': int(1), 'C': int(2)}) #giving numberical values to different store types\n",
    "\n",
    "nClusters = range(2,7)  #defining a range of clusters between 2 and 7\n",
    "rel_cols=['Type', 'Weekly_Sales'] #defining the relevant columns in the data set on which clustering needs to run\n",
    "\n",
    "sumDistances=[]\n",
    "\n",
    "#calculating SSE\n",
    "for n in nClusters:\n",
    "    kmeans=KMeans(n_clusters=n).fit(df[rel_cols])\n",
    "    sumDistances.append(kmeans.inertia_) #Proxy for SSE\n",
    "\n",
    "# Plotting the elbow graph\n",
    "plt.plot(nClusters,sumDistances,'-')\n",
    "plt.xlabel('nClusters')\n",
    "plt.ylabel('Sum Of Distances')\n",
    "plt.show()\n"
   ]
  },
  {
   "cell_type": "code",
   "execution_count": 61,
   "metadata": {},
   "outputs": [
    {
     "name": "stdout",
     "output_type": "stream",
     "text": [
      "As we see a slight kink at cluster = 3. Assuming cluster as 3 and plotting the pair plot\n"
     ]
    },
    {
     "name": "stderr",
     "output_type": "stream",
     "text": [
      "C:\\Users\\panka\\AppData\\Local\\Temp/ipykernel_13148/537425636.py:4: SettingWithCopyWarning: \n",
      "A value is trying to be set on a copy of a slice from a DataFrame.\n",
      "Try using .loc[row_indexer,col_indexer] = value instead\n",
      "\n",
      "See the caveats in the documentation: https://pandas.pydata.org/pandas-docs/stable/user_guide/indexing.html#returning-a-view-versus-a-copy\n",
      "  data['Cluster']=kmeans.labels_\n"
     ]
    },
    {
     "data": {
      "image/png": "[encoded data removed]",
      "text/plain": [
       "<Figure size 403.5x360 with 6 Axes>"
      ]
     },
     "metadata": {
      "needs_background": "light"
     },
     "output_type": "display_data"
    }
   ],
   "source": [
    "print(\"As we see a slight kink at cluster = 3. Assuming cluster as 3 and plotting the pair plot\")\n",
    "drawpairplot(3,df[rel_cols],True) #drawing pair plot for 3 clusters"
   ]
  },
  {
   "cell_type": "markdown",
   "metadata": {},
   "source": [
    "<font color = 'green'>Hence we can see that 3rd cluster which corresponds to \"Type A\" stores, have the most weekly sales and may be the largest store type amongst the other two stores. The classification of the masked data in the \"Type\" column of the dataset might indicate the size of the store. </font>"
   ]
  },
  {
   "cell_type": "markdown",
   "metadata": {},
   "source": [
    "## Variable Shortlisting based on above analysis"
   ]
  },
  {
   "cell_type": "code",
   "execution_count": 62,
   "metadata": {},
   "outputs": [],
   "source": [
    "features = ['isHoliday', 'Temperature', 'Weekly_Sales_Lag']#, 'Size', 'MarkDown5', 'master_df_new_var']\n",
    "features.extend(master_df_new_var.columns[master_df_new_var.columns.str.startswith('Type')])\n",
    "features.remove('Type')"
   ]
  },
  {
   "cell_type": "code",
   "execution_count": 63,
   "metadata": {},
   "outputs": [],
   "source": [
    "equals_to_str = \"\"\n",
    "\n",
    "for i in features:\n",
    "    equals_to_str = equals_to_str + str(i) + \" + \"\n",
    "\n",
    "equals_to_str = str('Weekly_Sales ~ ') + equals_to_str\n",
    "equals_to_str = equals_to_str  + 'Week_Number_50 + Week_Number_51+ Dept_95 + Dept_92+ Dept_38'\n",
    "equals_to_str_withpromotion = equals_to_str  + '+ MarkDown*Weekly_Sales_Lag'"
   ]
  },
  {
   "cell_type": "markdown",
   "metadata": {},
   "source": [
    "## Reduced Models"
   ]
  },
  {
   "cell_type": "code",
   "execution_count": 64,
   "metadata": {},
   "outputs": [
    {
     "name": "stdout",
     "output_type": "stream",
     "text": [
      "Model 1 without Promotion \n",
      "                             OLS Regression Results                            \n",
      "==============================================================================\n",
      "Dep. Variable:           Weekly_Sales   R-squared:                       0.879\n",
      "Model:                            OLS   Adj. R-squared:                  0.879\n",
      "Method:                 Least Squares   F-statistic:                 2.099e+05\n",
      "Date:                Wed, 04 May 2022   Prob (F-statistic):               0.00\n",
      "Time:                        22:53:52   Log-Likelihood:            -3.0104e+06\n",
      "No. Observations:              289299   AIC:                         6.021e+06\n",
      "Df Residuals:                  289288   BIC:                         6.021e+06\n",
      "Df Model:                          10                                         \n",
      "Covariance Type:            nonrobust                                         \n",
      "=====================================================================================\n",
      "                        coef    std err          t      P>|t|      [0.025      0.975]\n",
      "-------------------------------------------------------------------------------------\n",
      "Intercept           247.3962     42.690      5.795      0.000     163.725     331.067\n",
      "isHoliday[T.True]  -845.5337     55.780    -15.158      0.000    -954.860    -736.207\n",
      "Temperature           9.9790      0.837     11.928      0.000       8.339      11.619\n",
      "Weekly_Sales_Lag      0.9067      0.001   1185.741      0.000       0.905       0.908\n",
      "Type_A              698.9296     24.786     28.199      0.000     650.351     747.509\n",
      "Type_B                5.6130     24.101      0.233      0.816     -41.624      52.850\n",
      "Type_C             -457.1464     40.400    -11.316      0.000    -536.328    -377.964\n",
      "Week_Number_50     2363.1381    106.518     22.185      0.000    2154.366    2571.911\n",
      "Week_Number_51     6783.5677    106.467     63.715      0.000    6574.895    6992.240\n",
      "Dept_95            5074.3453    128.151     39.597      0.000    4823.173    5325.518\n",
      "Dept_92            5462.1660    129.366     42.223      0.000    5208.612    5715.720\n",
      "Dept_38            4289.9392    126.057     34.032      0.000    4042.872    4537.007\n",
      "==============================================================================\n",
      "Omnibus:                   322653.403   Durbin-Watson:                   2.644\n",
      "Prob(Omnibus):                  0.000   Jarque-Bera (JB):       8837920688.643\n",
      "Skew:                           4.081   Prob(JB):                         0.00\n",
      "Kurtosis:                     859.224   Cond. No.                     5.96e+18\n",
      "==============================================================================\n",
      "\n",
      "Notes:\n",
      "[1] Standard Errors assume that the covariance matrix of the errors is correctly specified.\n",
      "[2] The smallest eigenvalue is 6.46e-24. This might indicate that there are\n",
      "strong multicollinearity problems or that the design matrix is singular.\n"
     ]
    }
   ],
   "source": [
    "result_withoutpromotion = sm.ols(formula=equals_to_str, data = data_train).fit()\n",
    "print(\"Model 1 without Promotion \\n\",result_withoutpromotion.summary())"
   ]
  },
  {
   "cell_type": "code",
   "execution_count": 65,
   "metadata": {},
   "outputs": [
    {
     "name": "stdout",
     "output_type": "stream",
     "text": [
      "Model 1 with Promotion \n",
      "                             OLS Regression Results                            \n",
      "==============================================================================\n",
      "Dep. Variable:           Weekly_Sales   R-squared:                       0.883\n",
      "Model:                            OLS   Adj. R-squared:                  0.883\n",
      "Method:                 Least Squares   F-statistic:                 1.822e+05\n",
      "Date:                Wed, 04 May 2022   Prob (F-statistic):               0.00\n",
      "Time:                        22:53:53   Log-Likelihood:            -3.0052e+06\n",
      "No. Observations:              289299   AIC:                         6.010e+06\n",
      "Df Residuals:                  289286   BIC:                         6.010e+06\n",
      "Df Model:                          12                                         \n",
      "Covariance Type:            nonrobust                                         \n",
      "=============================================================================================\n",
      "                                coef    std err          t      P>|t|      [0.025      0.975]\n",
      "---------------------------------------------------------------------------------------------\n",
      "Intercept                    37.1945     42.183      0.882      0.378     -45.482     119.872\n",
      "isHoliday[T.True]          -852.3239     57.564    -14.806      0.000    -965.148    -739.500\n",
      "Temperature                   9.8274      0.826     11.902      0.000       8.209      11.446\n",
      "Weekly_Sales_Lag              0.9295      0.001   1186.239      0.000       0.928       0.931\n",
      "Type_A                      523.3284     24.537     21.328      0.000     475.236     571.421\n",
      "Type_B                      -72.7195     23.749     -3.062      0.002    -119.267     -26.172\n",
      "Type_C                     -413.4144     39.680    -10.419      0.000    -491.187    -335.642\n",
      "Week_Number_50             2256.6944    104.664     21.561      0.000    2051.556    2461.832\n",
      "Week_Number_51             6673.0064    104.573     63.812      0.000    6468.046    6877.967\n",
      "Dept_95                    4280.9141    126.114     33.945      0.000    4033.733    4528.095\n",
      "Dept_92                    4809.7483    127.235     37.802      0.000    4560.371    5059.125\n",
      "Dept_38                    3575.8497    124.011     28.835      0.000    3332.792    3818.907\n",
      "MarkDown                      0.0938      0.002     52.599      0.000       0.090       0.097\n",
      "MarkDown:Weekly_Sales_Lag -3.881e-06   3.77e-08   -102.926      0.000   -3.95e-06   -3.81e-06\n",
      "==============================================================================\n",
      "Omnibus:                   403272.904   Durbin-Watson:                   2.609\n",
      "Prob(Omnibus):                  0.000   Jarque-Bera (JB):      10351804894.466\n",
      "Skew:                           6.666   Prob(JB):                         0.00\n",
      "Kurtosis:                     929.606   Cond. No.                     1.05e+23\n",
      "==============================================================================\n",
      "\n",
      "Notes:\n",
      "[1] Standard Errors assume that the covariance matrix of the errors is correctly specified.\n",
      "[2] The smallest eigenvalue is 6.47e-24. This might indicate that there are\n",
      "strong multicollinearity problems or that the design matrix is singular.\n"
     ]
    }
   ],
   "source": [
    "result_withpromotion = sm.ols(formula=equals_to_str_withpromotion, data = data_train).fit()\n",
    "print(\"Model 1 with Promotion \\n\",result_withpromotion.summary())"
   ]
  },
  {
   "cell_type": "code",
   "execution_count": 66,
   "metadata": {},
   "outputs": [
    {
     "name": "stdout",
     "output_type": "stream",
     "text": [
      "The accuracy of the model is 84.56 %.(in the test dataset)\n",
      "The accuracy of the model is 84.53 %.(in the train dataset)\n"
     ]
    }
   ],
   "source": [
    "data_test = pd.concat([data_test, result_withoutpromotion.predict(data_test).rename(\"predicted_values_withoutpromotion\")], axis=1)\n",
    "print('The accuracy of the model is', round((1-(metrics.median_absolute_error(data_test.predicted_values_withoutpromotion, data_test.Weekly_Sales)/data_test.Weekly_Sales.median()))*100, 2), '%.(in the test dataset)')\n",
    "data_train = pd.concat([data_train, result_withoutpromotion.predict(data_train).rename(\"predicted_values_withoutpromotion\")], axis=1)\n",
    "print('The accuracy of the model is', round((1-(metrics.median_absolute_error(data_train.predicted_values_withoutpromotion, data_train.Weekly_Sales)/data_train.Weekly_Sales.median()))*100, 2), '%.(in the train dataset)')"
   ]
  },
  {
   "cell_type": "markdown",
   "metadata": {},
   "source": [
    "## Result Plots"
   ]
  },
  {
   "cell_type": "code",
   "execution_count": 67,
   "metadata": {},
   "outputs": [
    {
     "data": {
      "image/png": "[encoded data removed]",
      "text/plain": [
       "<Figure size 1080x360 with 1 Axes>"
      ]
     },
     "metadata": {
      "needs_background": "light"
     },
     "output_type": "display_data"
    }
   ],
   "source": [
    "pred_val = result_withoutpromotion.fittedvalues.copy()\n",
    "true_val = data_train['Weekly_Sales'].values.copy()\n",
    "residual = true_val - pred_val\n",
    "fig, ax = plt.subplots(figsize=(15,5))\n",
    "plt.xlabel('Error in Predicted Value', fontsize = 18)\n",
    "plt.ylabel('Predicted Value', fontsize = 18)\n",
    "plt.title(\"Residual plot (for Train Data)\", fontsize = 20)\n",
    "_ = ax.scatter(pred_val, residual)"
   ]
  },
  {
   "cell_type": "markdown",
   "metadata": {},
   "source": [
    "<font color = 'green'>From the above residual plot for the train data we can see that the errors are farely random and we do not see any clear pattern among the residuals. Therefore, we can say that our linear regression does not have any heteroscedasticity</font>"
   ]
  },
  {
   "cell_type": "code",
   "execution_count": 68,
   "metadata": {},
   "outputs": [
    {
     "data": {
      "image/png": "[encoded data removed]",
      "text/plain": [
       "<Figure size 1080x360 with 1 Axes>"
      ]
     },
     "metadata": {
      "needs_background": "light"
     },
     "output_type": "display_data"
    }
   ],
   "source": [
    "fig, ax = plt.subplots(figsize=(15,5))\n",
    "_, (__, ___, r) = sp.stats.probplot(residual, plot=ax, fit=True)\n",
    "#r**2"
   ]
  },
  {
   "cell_type": "markdown",
   "metadata": {},
   "source": [
    "<font color = 'green'>The above probability plot indicates that the residuals are normally distributed.</font>"
   ]
  },
  {
   "cell_type": "code",
   "execution_count": 69,
   "metadata": {},
   "outputs": [
    {
     "data": {
      "image/png": "[encoded data removed]",
      "text/plain": [
       "<Figure size 1080x360 with 1 Axes>"
      ]
     },
     "metadata": {
      "needs_background": "light"
     },
     "output_type": "display_data"
    }
   ],
   "source": [
    "pred_val = result_withpromotion.fittedvalues.copy()\n",
    "true_val = data_train['Weekly_Sales'].values.copy()\n",
    "residual = true_val - pred_val\n",
    "fig, ax = plt.subplots(figsize=(15,5))\n",
    "plt.xlabel('Error in Predicted Value', fontsize = 18)\n",
    "plt.ylabel('Predicted Value', fontsize = 18)\n",
    "plt.title(\"Comparison of Predicted Values VS Error (for Test Data)\", fontsize = 20)\n",
    "_ = ax.scatter(pred_val, residual)"
   ]
  },
  {
   "cell_type": "markdown",
   "metadata": {},
   "source": [
    "<font color = 'green'>From the above residual plot for the test data we can see that the errors are fairly random and we do not see any clear pattern among the residuals. Therefore, we can say that our linear regression does not have any heteroscedasticity</font>"
   ]
  },
  {
   "cell_type": "code",
   "execution_count": 70,
   "metadata": {},
   "outputs": [
    {
     "data": {
      "image/png": "[encoded data removed]",
      "text/plain": [
       "<Figure size 1080x360 with 1 Axes>"
      ]
     },
     "metadata": {
      "needs_background": "light"
     },
     "output_type": "display_data"
    }
   ],
   "source": [
    "fig, ax = plt.subplots(figsize=(15,5))\n",
    "_, (__, ___, r) = sp.stats.probplot(residual, plot=ax, fit=True)\n",
    "#r**2"
   ]
  },
  {
   "cell_type": "markdown",
   "metadata": {},
   "source": [
    "<font color = 'green'>The above probability plot indicates that the residuals are normally distributed</font>"
   ]
  },
  {
   "cell_type": "code",
   "execution_count": 71,
   "metadata": {},
   "outputs": [],
   "source": [
    "data_test[\"predicted_values_withoutpromotion\"] = result_withoutpromotion.predict(data_test)\n",
    "data_test[\"predicted_values_withpromotion\"] = result_withoutpromotion.predict(data_test)\n",
    "\n",
    "actual_sales = data_test.groupby(\"Dept\").mean()[\"Weekly_Sales\"]\n",
    "predicted_sales_withoutpromotion = data_test.groupby(\"Dept\").mean()[\"predicted_values_withoutpromotion\"]\n",
    "#data_test.to_csv(\"predictedvsactual.csv\")\n"
   ]
  },
  {
   "cell_type": "code",
   "execution_count": 72,
   "metadata": {},
   "outputs": [
    {
     "data": {
      "text/plain": [
       "Text(0.5, 1.0, 'Scatter plot of Actual Value VS Predicted Value')"
      ]
     },
     "execution_count": 72,
     "metadata": {},
     "output_type": "execute_result"
    },
    {
     "data": {
      "image/png": "[encoded data removed]",
      "text/plain": [
       "<Figure size 432x288 with 1 Axes>"
      ]
     },
     "metadata": {
      "needs_background": "light"
     },
     "output_type": "display_data"
    }
   ],
   "source": [
    "plt.scatter(data_test['Weekly_Sales'], data_test['predicted_values_withpromotion'])\n",
    "plt.xlabel('Actual Value', fontsize = 18)\n",
    "plt.ylabel('Predicted Value', fontsize = 18)\n",
    "plt.title(\"Scatter plot of Actual Value VS Predicted Value\", fontsize = 20)\n"
   ]
  },
  {
   "cell_type": "markdown",
   "metadata": {},
   "source": [
    "# Scalability Analysis"
   ]
  },
  {
   "cell_type": "markdown",
   "metadata": {},
   "source": [
    "## Modifying the regression for scalability purposes"
   ]
  },
  {
   "cell_type": "code",
   "execution_count": 73,
   "metadata": {},
   "outputs": [],
   "source": [
    "# To calculate L2 norm\n",
    "def normDiff (x, y, ord=2): \n",
    "    return np.linalg.norm (x - y, ord=ord) / np.linalg.norm (y, ord=ord) #Normalized by the \"length\" of y."
   ]
  },
  {
   "cell_type": "markdown",
   "metadata": {},
   "source": [
    "<font color = 'green'>Please note that even though the batchwise regression is currently run on data points, the code to run it on a batch is mentioned in the commented portions.</font>"
   ]
  },
  {
   "cell_type": "code",
   "execution_count": 74,
   "metadata": {
    "scrolled": false
   },
   "outputs": [],
   "source": [
    "# Define batchwise regression\n",
    "def run_ols_batchwise(DataFrame, Formula):\n",
    "    df_length = len(DataFrame.index)\n",
    "    \n",
    "    # Getting an initial estimate for beta coefficients\n",
    "    DataFrame.index = range(df_length)\n",
    "    DataFrame['batch_number'] = DataFrame.index % int(df_length/10000)\n",
    "    result = sm.ols(Formula, DataFrame.loc[DataFrame.batch_number == 1]).fit()\n",
    "    \n",
    "    # Extracting relevant columns out of formula\n",
    "    variables = Formula.split('+')\n",
    "    variable1 = variables[0].split('~')[1]\n",
    "    variables.remove(variables[0])\n",
    "    variables.insert(0, variable1)\n",
    "    variables.insert(0, 'Constant')\n",
    "    variables = [x.strip(' ') for x in variables]\n",
    "\n",
    "    # Preparing the data for interative linear regression\n",
    "    DataFrame['Constant'] = 1\n",
    "    X = np.array(DataFrame[variables])\n",
    "    y = np.array(DataFrame.Weekly_Sales)\n",
    "    beta_t = np.array(result.params)\n",
    "    phi = 2/max(result.eigenvals)\n",
    "    \n",
    "    for t in range(int(df_length)):\n",
    "        \n",
    "        #print(\"Iteration1:\", beta_t)\n",
    "        #y_data_array = DataFrame[(100*t):(100*(t + 1))]['Weekly_Sales']\n",
    "        #x_data_array = DataFrame.loc[(100*t):(100*(t + 1))-1, variables]\n",
    "        #yT = np.array(y_data_array)\n",
    "        #xT = np.array(x_data_array)\n",
    "        \n",
    "        xT = X[t,:]\n",
    "        yT = y[t]\n",
    "        \n",
    "        #print(xT.shape)\n",
    "        #print(yT.shape)\n",
    "        #print(beta_t.shape)\n",
    "        \n",
    "        #delta_t = phi * xT.T.dot(yT -xT.dot(beta_t))\n",
    "        \n",
    "        delta_t = phi * xT.dot(yT -xT.T.dot(beta_t))\n",
    "        \n",
    "        beta_t = beta_t + delta_t\n",
    "    \n",
    "    return beta_t"
   ]
  },
  {
   "cell_type": "code",
   "execution_count": 75,
   "metadata": {},
   "outputs": [
    {
     "name": "stdout",
     "output_type": "stream",
     "text": [
      "The mean error (MSE) in predicting the coeficient is  85.76 %\n"
     ]
    }
   ],
   "source": [
    "# Function calling\n",
    "batchwise_beta = run_ols_batchwise(data_test, equals_to_str)\n",
    "print('The mean error (MSE) in predicting the coeficient is ', round(normDiff(batchwise_beta, result_withoutpromotion.params), 4)*100, '%')"
   ]
  },
  {
   "cell_type": "code",
   "execution_count": null,
   "metadata": {
    "collapsed": true
   },
   "outputs": [],
   "source": []
  }
 ],
 "metadata": {
  "kernelspec": {
   "display_name": "Python 3 (ipykernel)",
   "language": "python",
   "name": "python3"
  },
  "language_info": {
   "codemirror_mode": {
    "name": "ipython",
    "version": 3
   },
   "file_extension": ".py",
   "mimetype": "text/x-python",
   "name": "python",
   "nbconvert_exporter": "python",
   "pygments_lexer": "ipython3",
   "version": "3.10.0"
  }
 },
 "nbformat": 4,
 "nbformat_minor": 2
}
